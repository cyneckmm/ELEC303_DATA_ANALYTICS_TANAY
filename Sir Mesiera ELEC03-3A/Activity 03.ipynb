{
 "cells": [
  {
   "cell_type": "markdown",
   "id": "01e59832-6e78-4470-b6cf-4f96e83e25c4",
   "metadata": {},
   "source": [
    "<h1>UK Road Accidents</h1>\n",
    "<hr>\n",
    "<h3>Tanay, Xynex Kim R.</h3>\n",
    "<h3>BSIT 3A</h3>"
   ]
  },
  {
   "cell_type": "code",
   "execution_count": 1,
   "id": "1cdf57d8-5d06-46ce-97be-d91e61230b2a",
   "metadata": {},
   "outputs": [],
   "source": [
    "import numpy as np\n",
    "import pandas as pd\n",
    "import warnings\n",
    "warnings.filterwarnings('ignore')\n",
    "import matplotlib.pyplot as plt"
   ]
  },
  {
   "cell_type": "code",
   "execution_count": 2,
   "id": "8263b651-cae8-4c33-9856-56a0430f67e5",
   "metadata": {},
   "outputs": [],
   "source": [
    "uk_accidents = pd.read_csv(\"datasets//uk_road_accident.csv\")"
   ]
  },
  {
   "cell_type": "code",
   "execution_count": 3,
   "id": "22992f59-7018-42d5-9208-491376cfc10d",
   "metadata": {},
   "outputs": [
    {
     "data": {
      "text/html": [
       "<div>\n",
       "<style scoped>\n",
       "    .dataframe tbody tr th:only-of-type {\n",
       "        vertical-align: middle;\n",
       "    }\n",
       "\n",
       "    .dataframe tbody tr th {\n",
       "        vertical-align: top;\n",
       "    }\n",
       "\n",
       "    .dataframe thead th {\n",
       "        text-align: right;\n",
       "    }\n",
       "</style>\n",
       "<table border=\"1\" class=\"dataframe\">\n",
       "  <thead>\n",
       "    <tr style=\"text-align: right;\">\n",
       "      <th></th>\n",
       "      <th>Index</th>\n",
       "      <th>Accident_Severity</th>\n",
       "      <th>Accident Date</th>\n",
       "      <th>Latitude</th>\n",
       "      <th>Light_Conditions</th>\n",
       "      <th>District Area</th>\n",
       "      <th>Longitude</th>\n",
       "      <th>Number_of_Casualties</th>\n",
       "      <th>Number_of_Vehicles</th>\n",
       "      <th>Road_Surface_Conditions</th>\n",
       "      <th>Road_Type</th>\n",
       "      <th>Urban_or_Rural_Area</th>\n",
       "      <th>Weather_Conditions</th>\n",
       "      <th>Vehicle_Type</th>\n",
       "    </tr>\n",
       "  </thead>\n",
       "  <tbody>\n",
       "    <tr>\n",
       "      <th>0</th>\n",
       "      <td>200701BS64157</td>\n",
       "      <td>Serious</td>\n",
       "      <td>5/6/2019</td>\n",
       "      <td>51.506187</td>\n",
       "      <td>Darkness - lights lit</td>\n",
       "      <td>Kensington and Chelsea</td>\n",
       "      <td>-0.209082</td>\n",
       "      <td>1</td>\n",
       "      <td>2</td>\n",
       "      <td>Dry</td>\n",
       "      <td>Single carriageway</td>\n",
       "      <td>Urban</td>\n",
       "      <td>Fine no high winds</td>\n",
       "      <td>Car</td>\n",
       "    </tr>\n",
       "    <tr>\n",
       "      <th>1</th>\n",
       "      <td>200701BS65737</td>\n",
       "      <td>Serious</td>\n",
       "      <td>2/7/2019</td>\n",
       "      <td>51.495029</td>\n",
       "      <td>Daylight</td>\n",
       "      <td>Kensington and Chelsea</td>\n",
       "      <td>-0.173647</td>\n",
       "      <td>1</td>\n",
       "      <td>2</td>\n",
       "      <td>Wet or damp</td>\n",
       "      <td>Single carriageway</td>\n",
       "      <td>Urban</td>\n",
       "      <td>Raining no high winds</td>\n",
       "      <td>Car</td>\n",
       "    </tr>\n",
       "    <tr>\n",
       "      <th>2</th>\n",
       "      <td>200701BS66127</td>\n",
       "      <td>Serious</td>\n",
       "      <td>26-08-2019</td>\n",
       "      <td>51.517715</td>\n",
       "      <td>Darkness - lighting unknown</td>\n",
       "      <td>Kensington and Chelsea</td>\n",
       "      <td>-0.210215</td>\n",
       "      <td>1</td>\n",
       "      <td>3</td>\n",
       "      <td>Dry</td>\n",
       "      <td>NaN</td>\n",
       "      <td>Urban</td>\n",
       "      <td>NaN</td>\n",
       "      <td>Taxi/Private hire car</td>\n",
       "    </tr>\n",
       "    <tr>\n",
       "      <th>3</th>\n",
       "      <td>200701BS66128</td>\n",
       "      <td>Serious</td>\n",
       "      <td>16-08-2019</td>\n",
       "      <td>51.495478</td>\n",
       "      <td>Daylight</td>\n",
       "      <td>Kensington and Chelsea</td>\n",
       "      <td>-0.202731</td>\n",
       "      <td>1</td>\n",
       "      <td>4</td>\n",
       "      <td>Dry</td>\n",
       "      <td>Single carriageway</td>\n",
       "      <td>Urban</td>\n",
       "      <td>Fine no high winds</td>\n",
       "      <td>Bus or coach (17 or more pass seats)</td>\n",
       "    </tr>\n",
       "    <tr>\n",
       "      <th>4</th>\n",
       "      <td>200701BS66837</td>\n",
       "      <td>Slight</td>\n",
       "      <td>3/9/2019</td>\n",
       "      <td>51.488576</td>\n",
       "      <td>Darkness - lights lit</td>\n",
       "      <td>Kensington and Chelsea</td>\n",
       "      <td>-0.192487</td>\n",
       "      <td>1</td>\n",
       "      <td>2</td>\n",
       "      <td>Dry</td>\n",
       "      <td>NaN</td>\n",
       "      <td>Urban</td>\n",
       "      <td>NaN</td>\n",
       "      <td>Other vehicle</td>\n",
       "    </tr>\n",
       "    <tr>\n",
       "      <th>...</th>\n",
       "      <td>...</td>\n",
       "      <td>...</td>\n",
       "      <td>...</td>\n",
       "      <td>...</td>\n",
       "      <td>...</td>\n",
       "      <td>...</td>\n",
       "      <td>...</td>\n",
       "      <td>...</td>\n",
       "      <td>...</td>\n",
       "      <td>...</td>\n",
       "      <td>...</td>\n",
       "      <td>...</td>\n",
       "      <td>...</td>\n",
       "      <td>...</td>\n",
       "    </tr>\n",
       "    <tr>\n",
       "      <th>660674</th>\n",
       "      <td>201091NM01760</td>\n",
       "      <td>Slight</td>\n",
       "      <td>18-02-2022</td>\n",
       "      <td>57.374005</td>\n",
       "      <td>Daylight</td>\n",
       "      <td>Highland</td>\n",
       "      <td>-3.467828</td>\n",
       "      <td>2</td>\n",
       "      <td>1</td>\n",
       "      <td>Dry</td>\n",
       "      <td>Single carriageway</td>\n",
       "      <td>Rural</td>\n",
       "      <td>Fine no high winds</td>\n",
       "      <td>Car</td>\n",
       "    </tr>\n",
       "    <tr>\n",
       "      <th>660675</th>\n",
       "      <td>201091NM01881</td>\n",
       "      <td>Slight</td>\n",
       "      <td>21-02-2022</td>\n",
       "      <td>57.232273</td>\n",
       "      <td>Darkness - no lighting</td>\n",
       "      <td>Highland</td>\n",
       "      <td>-3.809281</td>\n",
       "      <td>1</td>\n",
       "      <td>1</td>\n",
       "      <td>Frost or ice</td>\n",
       "      <td>Single carriageway</td>\n",
       "      <td>Rural</td>\n",
       "      <td>Fine no high winds</td>\n",
       "      <td>Car</td>\n",
       "    </tr>\n",
       "    <tr>\n",
       "      <th>660676</th>\n",
       "      <td>201091NM01935</td>\n",
       "      <td>Slight</td>\n",
       "      <td>23-02-2022</td>\n",
       "      <td>57.585044</td>\n",
       "      <td>Daylight</td>\n",
       "      <td>Highland</td>\n",
       "      <td>-3.862727</td>\n",
       "      <td>1</td>\n",
       "      <td>3</td>\n",
       "      <td>Frost or ice</td>\n",
       "      <td>Single carriageway</td>\n",
       "      <td>Rural</td>\n",
       "      <td>Fine no high winds</td>\n",
       "      <td>Car</td>\n",
       "    </tr>\n",
       "    <tr>\n",
       "      <th>660677</th>\n",
       "      <td>201091NM01964</td>\n",
       "      <td>Serious</td>\n",
       "      <td>23-02-2022</td>\n",
       "      <td>57.214898</td>\n",
       "      <td>Darkness - no lighting</td>\n",
       "      <td>Highland</td>\n",
       "      <td>-3.823997</td>\n",
       "      <td>1</td>\n",
       "      <td>2</td>\n",
       "      <td>Wet or damp</td>\n",
       "      <td>Single carriageway</td>\n",
       "      <td>Rural</td>\n",
       "      <td>Fine no high winds</td>\n",
       "      <td>Motorcycle over 500cc</td>\n",
       "    </tr>\n",
       "    <tr>\n",
       "      <th>660678</th>\n",
       "      <td>201091NM02142</td>\n",
       "      <td>Serious</td>\n",
       "      <td>28-02-2022</td>\n",
       "      <td>57.575210</td>\n",
       "      <td>Daylight</td>\n",
       "      <td>Highland</td>\n",
       "      <td>-3.895673</td>\n",
       "      <td>1</td>\n",
       "      <td>1</td>\n",
       "      <td>Wet or damp</td>\n",
       "      <td>Dual carriageway</td>\n",
       "      <td>Rural</td>\n",
       "      <td>Snowing no high winds</td>\n",
       "      <td>Car</td>\n",
       "    </tr>\n",
       "  </tbody>\n",
       "</table>\n",
       "<p>660679 rows × 14 columns</p>\n",
       "</div>"
      ],
      "text/plain": [
       "                Index Accident_Severity Accident Date   Latitude  \\\n",
       "0       200701BS64157           Serious      5/6/2019  51.506187   \n",
       "1       200701BS65737           Serious      2/7/2019  51.495029   \n",
       "2       200701BS66127           Serious    26-08-2019  51.517715   \n",
       "3       200701BS66128           Serious    16-08-2019  51.495478   \n",
       "4       200701BS66837            Slight      3/9/2019  51.488576   \n",
       "...               ...               ...           ...        ...   \n",
       "660674  201091NM01760            Slight    18-02-2022  57.374005   \n",
       "660675  201091NM01881            Slight    21-02-2022  57.232273   \n",
       "660676  201091NM01935            Slight    23-02-2022  57.585044   \n",
       "660677  201091NM01964           Serious    23-02-2022  57.214898   \n",
       "660678  201091NM02142           Serious    28-02-2022  57.575210   \n",
       "\n",
       "                   Light_Conditions           District Area  Longitude  \\\n",
       "0             Darkness - lights lit  Kensington and Chelsea  -0.209082   \n",
       "1                          Daylight  Kensington and Chelsea  -0.173647   \n",
       "2       Darkness - lighting unknown  Kensington and Chelsea  -0.210215   \n",
       "3                          Daylight  Kensington and Chelsea  -0.202731   \n",
       "4             Darkness - lights lit  Kensington and Chelsea  -0.192487   \n",
       "...                             ...                     ...        ...   \n",
       "660674                     Daylight                Highland  -3.467828   \n",
       "660675       Darkness - no lighting                Highland  -3.809281   \n",
       "660676                     Daylight                Highland  -3.862727   \n",
       "660677       Darkness - no lighting                Highland  -3.823997   \n",
       "660678                     Daylight                Highland  -3.895673   \n",
       "\n",
       "        Number_of_Casualties  Number_of_Vehicles Road_Surface_Conditions  \\\n",
       "0                          1                   2                     Dry   \n",
       "1                          1                   2             Wet or damp   \n",
       "2                          1                   3                     Dry   \n",
       "3                          1                   4                     Dry   \n",
       "4                          1                   2                     Dry   \n",
       "...                      ...                 ...                     ...   \n",
       "660674                     2                   1                     Dry   \n",
       "660675                     1                   1            Frost or ice   \n",
       "660676                     1                   3            Frost or ice   \n",
       "660677                     1                   2             Wet or damp   \n",
       "660678                     1                   1             Wet or damp   \n",
       "\n",
       "                 Road_Type Urban_or_Rural_Area     Weather_Conditions  \\\n",
       "0       Single carriageway               Urban     Fine no high winds   \n",
       "1       Single carriageway               Urban  Raining no high winds   \n",
       "2                      NaN               Urban                    NaN   \n",
       "3       Single carriageway               Urban     Fine no high winds   \n",
       "4                      NaN               Urban                    NaN   \n",
       "...                    ...                 ...                    ...   \n",
       "660674  Single carriageway               Rural     Fine no high winds   \n",
       "660675  Single carriageway               Rural     Fine no high winds   \n",
       "660676  Single carriageway               Rural     Fine no high winds   \n",
       "660677  Single carriageway               Rural     Fine no high winds   \n",
       "660678    Dual carriageway               Rural  Snowing no high winds   \n",
       "\n",
       "                                Vehicle_Type  \n",
       "0                                        Car  \n",
       "1                                        Car  \n",
       "2                      Taxi/Private hire car  \n",
       "3       Bus or coach (17 or more pass seats)  \n",
       "4                              Other vehicle  \n",
       "...                                      ...  \n",
       "660674                                   Car  \n",
       "660675                                   Car  \n",
       "660676                                   Car  \n",
       "660677                 Motorcycle over 500cc  \n",
       "660678                                   Car  \n",
       "\n",
       "[660679 rows x 14 columns]"
      ]
     },
     "execution_count": 3,
     "metadata": {},
     "output_type": "execute_result"
    }
   ],
   "source": [
    "uk_accidents"
   ]
  },
  {
   "cell_type": "markdown",
   "id": "73b7c0aa-759f-4d31-a76d-7891aefe0391",
   "metadata": {},
   "source": [
    "<h2>Changing the Data Type</h2>\n",
    "<hr>"
   ]
  },
  {
   "cell_type": "code",
   "execution_count": 4,
   "id": "2f12240a-5605-40f4-bb81-31b563f75e86",
   "metadata": {},
   "outputs": [
    {
     "data": {
      "text/plain": [
       "Index                       object\n",
       "Accident_Severity           object\n",
       "Accident Date               object\n",
       "Latitude                   float64\n",
       "Light_Conditions            object\n",
       "District Area               object\n",
       "Longitude                  float64\n",
       "Number_of_Casualties         int64\n",
       "Number_of_Vehicles           int64\n",
       "Road_Surface_Conditions     object\n",
       "Road_Type                   object\n",
       "Urban_or_Rural_Area         object\n",
       "Weather_Conditions          object\n",
       "Vehicle_Type                object\n",
       "dtype: object"
      ]
     },
     "execution_count": 4,
     "metadata": {},
     "output_type": "execute_result"
    }
   ],
   "source": [
    "uk_accidents.dtypes"
   ]
  },
  {
   "cell_type": "code",
   "execution_count": 5,
   "id": "8fa028d1-d44d-49a2-b49d-fefb3eba82c9",
   "metadata": {},
   "outputs": [],
   "source": [
    "# Step 1: Convert to string only if not null\n",
    "uk_accidents['Accident Date'] = uk_accidents['Accident Date'].astype(str)\n",
    "# Step 2: Replace '/' with '-' safely\n",
    "uk_accidents['Accident Date'] = uk_accidents['Accident Date'].apply(lambda x: x.replace('/', '-') if pd.notnull(x) else x)\n",
    "# Step 3: Strip whitespace\n",
    "uk_accidents['Accident Date'] = uk_accidents['Accident Date'].apply(lambda x: x.strip() if pd.notnull(x) else x)\n",
    "# Step 4: Convert to datetime\n",
    "uk_accidents['Accident Date'] = pd.to_datetime(uk_accidents['Accident Date'], dayfirst=True, errors='coerce')"
   ]
  },
  {
   "cell_type": "code",
   "execution_count": 6,
   "id": "0276ffc2-0f67-48a1-8184-214ae066f097",
   "metadata": {},
   "outputs": [],
   "source": [
    "uk_accidents['Accident_Severity'] = uk_accidents['Accident_Severity'].astype('category')\n",
    "# uk_accident['Latitude'] = uk_accident['Latitude'].astype('category')\n",
    "uk_accidents['Light_Conditions'] = uk_accidents['Light_Conditions'].astype('category')\n",
    "uk_accidents['District Area'] = uk_accidents['District Area'].astype('category')\n",
    "# uk_accident['Longitude'] = uk_accident['Longitude'].astype('category')\n",
    "uk_accidents['Road_Surface_Conditions'] = uk_accidents['Accident_Severity'].astype('category')\n",
    "uk_accidents['Road_Type'] = uk_accidents['Road_Type'].astype('category')\n",
    "uk_accidents['Urban_or_Rural_Area'] = uk_accidents['Urban_or_Rural_Area'].astype('category')\n",
    "uk_accidents['Weather_Condions'] = uk_accidents['Weather_Conditions'].astype('category')\n",
    "uk_accidents['Vehicle_Type'] = uk_accidents['Vehicle_Type'].astype('category')"
   ]
  },
  {
   "cell_type": "code",
   "execution_count": 7,
   "id": "272f0a49-b393-4145-8bae-8f93a1b17f48",
   "metadata": {},
   "outputs": [
    {
     "data": {
      "text/plain": [
       "Index                              object\n",
       "Accident_Severity                category\n",
       "Accident Date              datetime64[ns]\n",
       "Latitude                          float64\n",
       "Light_Conditions                 category\n",
       "District Area                    category\n",
       "Longitude                         float64\n",
       "Number_of_Casualties                int64\n",
       "Number_of_Vehicles                  int64\n",
       "Road_Surface_Conditions          category\n",
       "Road_Type                        category\n",
       "Urban_or_Rural_Area              category\n",
       "Weather_Conditions                 object\n",
       "Vehicle_Type                     category\n",
       "Weather_Condions                 category\n",
       "dtype: object"
      ]
     },
     "execution_count": 7,
     "metadata": {},
     "output_type": "execute_result"
    }
   ],
   "source": [
    "uk_accidents.dtypes"
   ]
  },
  {
   "cell_type": "code",
   "execution_count": 8,
   "id": "9fe5cb0b-a458-4796-99cc-7b04421d417e",
   "metadata": {},
   "outputs": [
    {
     "data": {
      "text/plain": [
       "count                           660679\n",
       "mean     2020-11-30 08:30:32.761749760\n",
       "min                2019-01-01 00:00:00\n",
       "25%                2019-11-27 00:00:00\n",
       "50%                2020-11-13 00:00:00\n",
       "75%                2021-11-17 00:00:00\n",
       "max                2022-12-31 00:00:00\n",
       "Name: Accident Date, dtype: object"
      ]
     },
     "execution_count": 8,
     "metadata": {},
     "output_type": "execute_result"
    }
   ],
   "source": [
    "uk_accidents['Accident Date'].describe()"
   ]
  },
  {
   "cell_type": "markdown",
   "id": "a4ad7fef-cfd6-4930-adf1-7f0a1b0572e4",
   "metadata": {},
   "source": [
    "<hr>"
   ]
  },
  {
   "cell_type": "markdown",
   "id": "dbe65f5e-e453-4e5f-a464-6da6d3a63762",
   "metadata": {},
   "source": [
    "<h2>Filling null values.</h2>"
   ]
  },
  {
   "cell_type": "code",
   "execution_count": 9,
   "id": "afe30bb6-d0a6-4960-bf83-45a71219c398",
   "metadata": {},
   "outputs": [
    {
     "data": {
      "text/html": [
       "<div>\n",
       "<style scoped>\n",
       "    .dataframe tbody tr th:only-of-type {\n",
       "        vertical-align: middle;\n",
       "    }\n",
       "\n",
       "    .dataframe tbody tr th {\n",
       "        vertical-align: top;\n",
       "    }\n",
       "\n",
       "    .dataframe thead th {\n",
       "        text-align: right;\n",
       "    }\n",
       "</style>\n",
       "<table border=\"1\" class=\"dataframe\">\n",
       "  <thead>\n",
       "    <tr style=\"text-align: right;\">\n",
       "      <th></th>\n",
       "      <th>Index</th>\n",
       "      <th>Accident_Severity</th>\n",
       "      <th>Accident Date</th>\n",
       "      <th>Latitude</th>\n",
       "      <th>Light_Conditions</th>\n",
       "      <th>District Area</th>\n",
       "      <th>Longitude</th>\n",
       "      <th>Number_of_Casualties</th>\n",
       "      <th>Number_of_Vehicles</th>\n",
       "      <th>Road_Surface_Conditions</th>\n",
       "      <th>Road_Type</th>\n",
       "      <th>Urban_or_Rural_Area</th>\n",
       "      <th>Weather_Conditions</th>\n",
       "      <th>Vehicle_Type</th>\n",
       "      <th>Weather_Condions</th>\n",
       "    </tr>\n",
       "  </thead>\n",
       "  <tbody>\n",
       "    <tr>\n",
       "      <th>0</th>\n",
       "      <td>False</td>\n",
       "      <td>False</td>\n",
       "      <td>False</td>\n",
       "      <td>False</td>\n",
       "      <td>False</td>\n",
       "      <td>False</td>\n",
       "      <td>False</td>\n",
       "      <td>False</td>\n",
       "      <td>False</td>\n",
       "      <td>False</td>\n",
       "      <td>False</td>\n",
       "      <td>False</td>\n",
       "      <td>False</td>\n",
       "      <td>False</td>\n",
       "      <td>False</td>\n",
       "    </tr>\n",
       "    <tr>\n",
       "      <th>1</th>\n",
       "      <td>False</td>\n",
       "      <td>False</td>\n",
       "      <td>False</td>\n",
       "      <td>False</td>\n",
       "      <td>False</td>\n",
       "      <td>False</td>\n",
       "      <td>False</td>\n",
       "      <td>False</td>\n",
       "      <td>False</td>\n",
       "      <td>False</td>\n",
       "      <td>False</td>\n",
       "      <td>False</td>\n",
       "      <td>False</td>\n",
       "      <td>False</td>\n",
       "      <td>False</td>\n",
       "    </tr>\n",
       "    <tr>\n",
       "      <th>2</th>\n",
       "      <td>False</td>\n",
       "      <td>False</td>\n",
       "      <td>False</td>\n",
       "      <td>False</td>\n",
       "      <td>False</td>\n",
       "      <td>False</td>\n",
       "      <td>False</td>\n",
       "      <td>False</td>\n",
       "      <td>False</td>\n",
       "      <td>False</td>\n",
       "      <td>True</td>\n",
       "      <td>False</td>\n",
       "      <td>True</td>\n",
       "      <td>False</td>\n",
       "      <td>True</td>\n",
       "    </tr>\n",
       "    <tr>\n",
       "      <th>3</th>\n",
       "      <td>False</td>\n",
       "      <td>False</td>\n",
       "      <td>False</td>\n",
       "      <td>False</td>\n",
       "      <td>False</td>\n",
       "      <td>False</td>\n",
       "      <td>False</td>\n",
       "      <td>False</td>\n",
       "      <td>False</td>\n",
       "      <td>False</td>\n",
       "      <td>False</td>\n",
       "      <td>False</td>\n",
       "      <td>False</td>\n",
       "      <td>False</td>\n",
       "      <td>False</td>\n",
       "    </tr>\n",
       "    <tr>\n",
       "      <th>4</th>\n",
       "      <td>False</td>\n",
       "      <td>False</td>\n",
       "      <td>False</td>\n",
       "      <td>False</td>\n",
       "      <td>False</td>\n",
       "      <td>False</td>\n",
       "      <td>False</td>\n",
       "      <td>False</td>\n",
       "      <td>False</td>\n",
       "      <td>False</td>\n",
       "      <td>True</td>\n",
       "      <td>False</td>\n",
       "      <td>True</td>\n",
       "      <td>False</td>\n",
       "      <td>True</td>\n",
       "    </tr>\n",
       "    <tr>\n",
       "      <th>...</th>\n",
       "      <td>...</td>\n",
       "      <td>...</td>\n",
       "      <td>...</td>\n",
       "      <td>...</td>\n",
       "      <td>...</td>\n",
       "      <td>...</td>\n",
       "      <td>...</td>\n",
       "      <td>...</td>\n",
       "      <td>...</td>\n",
       "      <td>...</td>\n",
       "      <td>...</td>\n",
       "      <td>...</td>\n",
       "      <td>...</td>\n",
       "      <td>...</td>\n",
       "      <td>...</td>\n",
       "    </tr>\n",
       "    <tr>\n",
       "      <th>660674</th>\n",
       "      <td>False</td>\n",
       "      <td>False</td>\n",
       "      <td>False</td>\n",
       "      <td>False</td>\n",
       "      <td>False</td>\n",
       "      <td>False</td>\n",
       "      <td>False</td>\n",
       "      <td>False</td>\n",
       "      <td>False</td>\n",
       "      <td>False</td>\n",
       "      <td>False</td>\n",
       "      <td>False</td>\n",
       "      <td>False</td>\n",
       "      <td>False</td>\n",
       "      <td>False</td>\n",
       "    </tr>\n",
       "    <tr>\n",
       "      <th>660675</th>\n",
       "      <td>False</td>\n",
       "      <td>False</td>\n",
       "      <td>False</td>\n",
       "      <td>False</td>\n",
       "      <td>False</td>\n",
       "      <td>False</td>\n",
       "      <td>False</td>\n",
       "      <td>False</td>\n",
       "      <td>False</td>\n",
       "      <td>False</td>\n",
       "      <td>False</td>\n",
       "      <td>False</td>\n",
       "      <td>False</td>\n",
       "      <td>False</td>\n",
       "      <td>False</td>\n",
       "    </tr>\n",
       "    <tr>\n",
       "      <th>660676</th>\n",
       "      <td>False</td>\n",
       "      <td>False</td>\n",
       "      <td>False</td>\n",
       "      <td>False</td>\n",
       "      <td>False</td>\n",
       "      <td>False</td>\n",
       "      <td>False</td>\n",
       "      <td>False</td>\n",
       "      <td>False</td>\n",
       "      <td>False</td>\n",
       "      <td>False</td>\n",
       "      <td>False</td>\n",
       "      <td>False</td>\n",
       "      <td>False</td>\n",
       "      <td>False</td>\n",
       "    </tr>\n",
       "    <tr>\n",
       "      <th>660677</th>\n",
       "      <td>False</td>\n",
       "      <td>False</td>\n",
       "      <td>False</td>\n",
       "      <td>False</td>\n",
       "      <td>False</td>\n",
       "      <td>False</td>\n",
       "      <td>False</td>\n",
       "      <td>False</td>\n",
       "      <td>False</td>\n",
       "      <td>False</td>\n",
       "      <td>False</td>\n",
       "      <td>False</td>\n",
       "      <td>False</td>\n",
       "      <td>False</td>\n",
       "      <td>False</td>\n",
       "    </tr>\n",
       "    <tr>\n",
       "      <th>660678</th>\n",
       "      <td>False</td>\n",
       "      <td>False</td>\n",
       "      <td>False</td>\n",
       "      <td>False</td>\n",
       "      <td>False</td>\n",
       "      <td>False</td>\n",
       "      <td>False</td>\n",
       "      <td>False</td>\n",
       "      <td>False</td>\n",
       "      <td>False</td>\n",
       "      <td>False</td>\n",
       "      <td>False</td>\n",
       "      <td>False</td>\n",
       "      <td>False</td>\n",
       "      <td>False</td>\n",
       "    </tr>\n",
       "  </tbody>\n",
       "</table>\n",
       "<p>660679 rows × 15 columns</p>\n",
       "</div>"
      ],
      "text/plain": [
       "        Index  Accident_Severity  Accident Date  Latitude  Light_Conditions  \\\n",
       "0       False              False          False     False             False   \n",
       "1       False              False          False     False             False   \n",
       "2       False              False          False     False             False   \n",
       "3       False              False          False     False             False   \n",
       "4       False              False          False     False             False   \n",
       "...       ...                ...            ...       ...               ...   \n",
       "660674  False              False          False     False             False   \n",
       "660675  False              False          False     False             False   \n",
       "660676  False              False          False     False             False   \n",
       "660677  False              False          False     False             False   \n",
       "660678  False              False          False     False             False   \n",
       "\n",
       "        District Area  Longitude  Number_of_Casualties  Number_of_Vehicles  \\\n",
       "0               False      False                 False               False   \n",
       "1               False      False                 False               False   \n",
       "2               False      False                 False               False   \n",
       "3               False      False                 False               False   \n",
       "4               False      False                 False               False   \n",
       "...               ...        ...                   ...                 ...   \n",
       "660674          False      False                 False               False   \n",
       "660675          False      False                 False               False   \n",
       "660676          False      False                 False               False   \n",
       "660677          False      False                 False               False   \n",
       "660678          False      False                 False               False   \n",
       "\n",
       "        Road_Surface_Conditions  Road_Type  Urban_or_Rural_Area  \\\n",
       "0                         False      False                False   \n",
       "1                         False      False                False   \n",
       "2                         False       True                False   \n",
       "3                         False      False                False   \n",
       "4                         False       True                False   \n",
       "...                         ...        ...                  ...   \n",
       "660674                    False      False                False   \n",
       "660675                    False      False                False   \n",
       "660676                    False      False                False   \n",
       "660677                    False      False                False   \n",
       "660678                    False      False                False   \n",
       "\n",
       "        Weather_Conditions  Vehicle_Type  Weather_Condions  \n",
       "0                    False         False             False  \n",
       "1                    False         False             False  \n",
       "2                     True         False              True  \n",
       "3                    False         False             False  \n",
       "4                     True         False              True  \n",
       "...                    ...           ...               ...  \n",
       "660674               False         False             False  \n",
       "660675               False         False             False  \n",
       "660676               False         False             False  \n",
       "660677               False         False             False  \n",
       "660678               False         False             False  \n",
       "\n",
       "[660679 rows x 15 columns]"
      ]
     },
     "execution_count": 9,
     "metadata": {},
     "output_type": "execute_result"
    }
   ],
   "source": [
    "uk_accidents.isnull()"
   ]
  },
  {
   "cell_type": "code",
   "execution_count": 10,
   "id": "269062a1-6f24-4505-b894-1ed49baf8e9a",
   "metadata": {},
   "outputs": [
    {
     "data": {
      "text/plain": [
       "Index                          0\n",
       "Accident_Severity              0\n",
       "Accident Date                  0\n",
       "Latitude                      25\n",
       "Light_Conditions               0\n",
       "District Area                  0\n",
       "Longitude                     26\n",
       "Number_of_Casualties           0\n",
       "Number_of_Vehicles             0\n",
       "Road_Surface_Conditions        0\n",
       "Road_Type                   4520\n",
       "Urban_or_Rural_Area           15\n",
       "Weather_Conditions         14128\n",
       "Vehicle_Type                   0\n",
       "Weather_Condions           14128\n",
       "dtype: int64"
      ]
     },
     "execution_count": 10,
     "metadata": {},
     "output_type": "execute_result"
    }
   ],
   "source": [
    "uk_accidents.isnull().sum()"
   ]
  },
  {
   "cell_type": "code",
   "execution_count": 11,
   "id": "3da06fe5-afed-412a-a91b-e22411aaa9a0",
   "metadata": {},
   "outputs": [],
   "source": [
    "uk_accidents['Latitude'] = uk_accidents['Latitude'].fillna(uk_accidents['Latitude'].mode()[0])\n",
    "uk_accidents['Longitude'] = uk_accidents['Longitude'].fillna(uk_accidents['Longitude'].mode()[0])\n",
    "uk_accidents['Urban_or_Rural_Area'] = uk_accidents['Urban_or_Rural_Area'].fillna(uk_accidents['Urban_or_Rural_Area'].mode()[0])\n",
    "uk_accidents['Weather_Conditions'] = uk_accidents['Weather_Conditions'].fillna(uk_accidents['Weather_Conditions'].mode()[0])\n",
    "uk_accidents['Accident Date'] = uk_accidents['Accident Date'].fillna(uk_accidents['Accident Date'].mean())\n",
    "uk_accidents['Road_Type'] = uk_accidents['Road_Type'].fillna(uk_accidents['Road_Type'].mode()[0])"
   ]
  },
  {
   "cell_type": "markdown",
   "id": "b3d6aa35-b46a-4104-bb36-ca7879abd62b",
   "metadata": {},
   "source": [
    "<h3>Removing columns that shouldn't be part of the dataset.</h3>"
   ]
  },
  {
   "cell_type": "code",
   "execution_count": 12,
   "id": "0b9d9c01-d6cb-44ae-9e5c-2d6bb00f7519",
   "metadata": {},
   "outputs": [],
   "source": [
    "columns_to_drop = ['Weather_Condions', 'Weather_CondionsWeather_Condions']\n",
    "uk_accidents.drop(columns=[col for col in columns_to_drop if col in uk_accidents.columns], inplace=True)"
   ]
  },
  {
   "cell_type": "code",
   "execution_count": 13,
   "id": "0ed1b669-a28f-4065-825c-21f69a6fc815",
   "metadata": {},
   "outputs": [
    {
     "data": {
      "text/plain": [
       "Index                      0\n",
       "Accident_Severity          0\n",
       "Accident Date              0\n",
       "Latitude                   0\n",
       "Light_Conditions           0\n",
       "District Area              0\n",
       "Longitude                  0\n",
       "Number_of_Casualties       0\n",
       "Number_of_Vehicles         0\n",
       "Road_Surface_Conditions    0\n",
       "Road_Type                  0\n",
       "Urban_or_Rural_Area        0\n",
       "Weather_Conditions         0\n",
       "Vehicle_Type               0\n",
       "dtype: int64"
      ]
     },
     "execution_count": 13,
     "metadata": {},
     "output_type": "execute_result"
    }
   ],
   "source": [
    "uk_accidents.isnull().sum()"
   ]
  },
  {
   "cell_type": "markdown",
   "id": "7d0d9d0f-3564-4566-add0-3483ee17a297",
   "metadata": {},
   "source": [
    "<hr>"
   ]
  },
  {
   "cell_type": "markdown",
   "id": "4ce83708-7566-4e5a-9a80-81f070bb4455",
   "metadata": {},
   "source": [
    "<h2>Extracting date information using pandas date time</h2>"
   ]
  },
  {
   "cell_type": "code",
   "execution_count": 14,
   "id": "4eedfbd3-9238-48d8-a089-90d2b80cff1f",
   "metadata": {},
   "outputs": [],
   "source": [
    "uk_accidents['Year'] = uk_accidents['Accident Date'].dt.year\n",
    "uk_accidents['Month'] = uk_accidents['Accident Date'].dt.month\n",
    "uk_accidents['Day'] = uk_accidents['Accident Date'].dt.day\n",
    "uk_accidents['DayOfWeek'] = uk_accidents['Accident Date'].dt.dayofweek # Monday=0 Sunday=6"
   ]
  },
  {
   "cell_type": "code",
   "execution_count": 15,
   "id": "72a49f37-b81a-4a2e-8be8-b6c9a70571d6",
   "metadata": {},
   "outputs": [],
   "source": [
    "from scipy.stats import f_oneway"
   ]
  },
  {
   "cell_type": "markdown",
   "id": "af4491d1-3f40-4d5f-a4ac-33eeb21fca74",
   "metadata": {},
   "source": [
    "<hr>"
   ]
  },
  {
   "cell_type": "markdown",
   "id": "b5b18b2c-75b8-4f8f-95bf-fbcb4375fb70",
   "metadata": {},
   "source": [
    "<h2>01. What's the total count of accident reports in the dataset?</h2>"
   ]
  },
  {
   "cell_type": "code",
   "execution_count": 16,
   "id": "7036b9ab-4fa7-4b18-acb3-2f6bdd468ebf",
   "metadata": {},
   "outputs": [
    {
     "data": {
      "text/plain": [
       "Index\n",
       "2.01E+12         239478\n",
       "2.01E+86              4\n",
       "2.01E+197             4\n",
       "2.01E+98              4\n",
       "2.01E+175             4\n",
       "                  ...  \n",
       "201091NM01760         1\n",
       "201091NM01881         1\n",
       "201091NM01935         1\n",
       "201091NM01964         1\n",
       "201091NM02142         1\n",
       "Name: count, Length: 421020, dtype: int64"
      ]
     },
     "execution_count": 16,
     "metadata": {},
     "output_type": "execute_result"
    }
   ],
   "source": [
    "uk_accidents[\"Index\"].value_counts()"
   ]
  },
  {
   "cell_type": "markdown",
   "id": "6aa757a6-0bc9-4eb0-b2aa-e0b59d458b22",
   "metadata": {},
   "source": [
    "<h3>Insight: The dataset contains 421,020 unique accident records, providing a large amount of information that can help analyze road safety and accident trends.</h3>"
   ]
  },
  {
   "cell_type": "markdown",
   "id": "0f910563-7b51-492e-9220-02cb75ef3ef1",
   "metadata": {},
   "source": [
    "<hr>"
   ]
  },
  {
   "cell_type": "markdown",
   "id": "ef6989b5-5c71-4a5c-85de-46c5a5216ccd",
   "metadata": {},
   "source": [
    "<h2>02. How many district areas are there in the dataset?</h2>"
   ]
  },
  {
   "cell_type": "code",
   "execution_count": 17,
   "id": "6d985298-d9a8-46a8-b9c5-e463e4b9a2e9",
   "metadata": {},
   "outputs": [
    {
     "data": {
      "text/plain": [
       "['Kensington and Chelsea', 'Westminster', 'Richmond upon Thames', 'Hammersmith and Fulham', 'Hounslow', ..., 'County Durham', 'Shropshire', 'Central Bedfordshire', 'Cornwall', 'Wiltshire']\n",
       "Length: 422\n",
       "Categories (422, object): ['Aberdeen City', 'Aberdeenshire', 'Adur', 'Allerdale', ..., 'Wycombe', 'Wyre', 'Wyre Forest', 'York']"
      ]
     },
     "execution_count": 17,
     "metadata": {},
     "output_type": "execute_result"
    }
   ],
   "source": [
    "uk_accidents[\"District Area\"].unique()"
   ]
  },
  {
   "cell_type": "code",
   "execution_count": 18,
   "id": "12bbd0b1-25a4-4a7a-947b-71c19fa33cbc",
   "metadata": {},
   "outputs": [
    {
     "data": {
      "text/plain": [
       "District Area\n",
       "Birmingham            13491\n",
       "Leeds                  8898\n",
       "Manchester             6720\n",
       "Bradford               6212\n",
       "Sheffield              5710\n",
       "                      ...  \n",
       "Berwick-upon-Tweed      153\n",
       "Teesdale                142\n",
       "Shetland Islands        133\n",
       "Orkney Islands          117\n",
       "Clackmannanshire         91\n",
       "Name: count, Length: 422, dtype: int64"
      ]
     },
     "execution_count": 18,
     "metadata": {},
     "output_type": "execute_result"
    }
   ],
   "source": [
    "uk_accidents[\"District Area\"].value_counts()"
   ]
  },
  {
   "cell_type": "markdown",
   "id": "c0f5e064-a939-4937-91ec-ae45d8011875",
   "metadata": {},
   "source": [
    "<h3>Insight: The dataset has accident information from 422 different district areas, which means it includes many places from big cities to small towns. This wide coverage helps us understand how accidents happen in different types of locations, giving a better overall picture of road safety.</h3>\n",
    "<hr>"
   ]
  },
  {
   "cell_type": "markdown",
   "id": "37412a56-5856-44dc-ad4f-f04dcc14035f",
   "metadata": {},
   "source": [
    "<h2>03. Which district area reports the most accidents?</h2>"
   ]
  },
  {
   "cell_type": "code",
   "execution_count": 19,
   "id": "6e2632e6-9572-44a6-8db1-01c42dc7b65c",
   "metadata": {},
   "outputs": [
    {
     "data": {
      "text/plain": [
       "District Area\n",
       "Birmingham            13491\n",
       "Leeds                  8898\n",
       "Manchester             6720\n",
       "Bradford               6212\n",
       "Sheffield              5710\n",
       "                      ...  \n",
       "Berwick-upon-Tweed      153\n",
       "Teesdale                142\n",
       "Shetland Islands        133\n",
       "Orkney Islands          117\n",
       "Clackmannanshire         91\n",
       "Name: count, Length: 422, dtype: int64"
      ]
     },
     "execution_count": 19,
     "metadata": {},
     "output_type": "execute_result"
    }
   ],
   "source": [
    "uk_accidents['District Area'].value_counts()"
   ]
  },
  {
   "cell_type": "markdown",
   "id": "4ce7770b-5b64-4705-92dc-056c2ca94ee8",
   "metadata": {},
   "source": [
    "<h3>Insight: The records show that the Birmingham area has the highest number of accidents compared to other areas. This may be because Birmingham is a large and busy city with heavy traffic, more vehicles on the road, and crowded streets, which makes accidents more likely to happen.</h3>"
   ]
  },
  {
   "cell_type": "markdown",
   "id": "2654194c-bb0f-43e3-a3eb-74b653b75028",
   "metadata": {},
   "source": [
    "<hr>\n",
    "<h2>04. Which weather condition is associated with the highest number of accidents?</h2>"
   ]
  },
  {
   "cell_type": "code",
   "execution_count": 20,
   "id": "d3d3935c-0368-450f-92f2-32825efce9ff",
   "metadata": {},
   "outputs": [
    {
     "data": {
      "text/plain": [
       "Weather_Conditions\n",
       "Fine no high winds       535013\n",
       "Raining no high winds     79696\n",
       "Other                     17150\n",
       "Raining + high winds       9615\n",
       "Fine + high winds          8554\n",
       "Snowing no high winds      6238\n",
       "Fog or mist                3528\n",
       "Snowing + high winds        885\n",
       "Name: count, dtype: int64"
      ]
     },
     "execution_count": 20,
     "metadata": {},
     "output_type": "execute_result"
    }
   ],
   "source": [
    "uk_accidents[\"Weather_Conditions\"].value_counts()"
   ]
  },
  {
   "cell_type": "markdown",
   "id": "c7fb0e88-1482-48fe-b014-d70cecafcd60",
   "metadata": {},
   "source": [
    "<h3>Insight 01:\n",
    "Most accidents happened during Fine no high winds weather conditions, which had the highest number of recorded incidents. This suggests that even in good weather, accidents remain common, possibly due to higher traffic volumes.</h3>"
   ]
  },
  {
   "cell_type": "markdown",
   "id": "10a3e7fb-7da9-46b4-b5b4-a68dda9b0768",
   "metadata": {},
   "source": [
    "<h3>Insight 02:\n",
    "The fewest accidents occurred during Snowing high winds conditions. This could be because fewer people drive in severe weather or drivers are more cautious when conditions are dangerous.</h3>"
   ]
  },
  {
   "cell_type": "markdown",
   "id": "75cb5bc2-768b-41da-9e34-46ddf5b8a3ee",
   "metadata": {},
   "source": [
    "<hr>"
   ]
  },
  {
   "cell_type": "markdown",
   "id": "7bda7184-93c1-479a-97ab-77295315185f",
   "metadata": {},
   "source": [
    "<h2>05. Between urban and rural areas, where were the most casualties recorded?</h2>"
   ]
  },
  {
   "cell_type": "code",
   "execution_count": 21,
   "id": "1e5e6c6e-340c-4ed6-9b41-991499692e3c",
   "metadata": {},
   "outputs": [],
   "source": [
    "areas_casualties = uk_accidents.groupby(['Urban_or_Rural_Area'])['Number_of_Casualties'].count()"
   ]
  },
  {
   "cell_type": "code",
   "execution_count": 22,
   "id": "71d6ec72-84b7-4482-bf2a-d6216a134d3f",
   "metadata": {
    "scrolled": true
   },
   "outputs": [
    {
     "data": {
      "text/plain": [
       "Urban_or_Rural_Area\n",
       "Rural          238990\n",
       "Unallocated        11\n",
       "Urban          421678\n",
       "Name: Number_of_Casualties, dtype: int64"
      ]
     },
     "execution_count": 22,
     "metadata": {},
     "output_type": "execute_result"
    }
   ],
   "source": [
    "areas_casualties"
   ]
  },
  {
   "cell_type": "code",
   "execution_count": 23,
   "id": "3fe6a3e3-5a64-4297-bbf0-579c11ec97c1",
   "metadata": {},
   "outputs": [
    {
     "data": {
      "text/plain": [
       "<Axes: xlabel='Urban_or_Rural_Area'>"
      ]
     },
     "execution_count": 23,
     "metadata": {},
     "output_type": "execute_result"
    },
    {
     "data": {
      "image/png": "[encoded data removed]",
      "text/plain": [
       "<Figure size 640x480 with 1 Axes>"
      ]
     },
     "metadata": {},
     "output_type": "display_data"
    }
   ],
   "source": [
    "uk_accidents.groupby('Urban_or_Rural_Area')['Index'].size().plot(kind = 'bar', color = [\"#FF69B4\", \"#FFB6C1\", \"#FFC0CB\"])"
   ]
  },
  {
   "cell_type": "markdown",
   "id": "7f49f2be-91c5-405f-b44d-0bfd1a97197c",
   "metadata": {},
   "source": [
    "<h3>Insight 01:\n",
    "<strong>Urban Areas</strong> most casualties happened in urban areas, with 421,678 recorded. This is likely because cities have more traffic and people on the roads..</h3>"
   ]
  },
  {
   "cell_type": "markdown",
   "id": "53c1f96d-b019-4471-b57b-1de16397a1c8",
   "metadata": {},
   "source": [
    "<h3>Insight 2:\n",
    "<strong>Rural areas</strong> had 238,990 casualties. Even though fewer accidents happen there compared to cities, they can still be serious due to faster driving and fewer nearby services.</h3>"
   ]
  },
  {
   "cell_type": "markdown",
   "id": "32887986-c51a-4dfc-9438-4e40004b1fb6",
   "metadata": {},
   "source": [
    "<h3>Insight 3: \n",
    "<strong>Unallocated</strong> only 11 casualties were marked as unallocated, meaning it wasn’t clear if they happened in a rural or urban area. This number is very small and doesn't affect the overall data much.</h3>"
   ]
  },
  {
   "cell_type": "markdown",
   "id": "98ead6c7-2f91-41cd-9ff6-f92f2d758341",
   "metadata": {},
   "source": [
    "<hr>"
   ]
  },
  {
   "cell_type": "markdown",
   "id": "e5d62b53-0c08-43ea-9c8b-54b0fc9384f3",
   "metadata": {},
   "source": [
    "<h2>06. Which of the three accident severity levels has the highest number of accidents?</h2>"
   ]
  },
  {
   "cell_type": "code",
   "execution_count": 24,
   "id": "f0ccb856-1506-43a8-b2f4-0a27989a24ff",
   "metadata": {},
   "outputs": [],
   "source": [
    "serious_dataf = uk_accidents[uk_accidents['Accident_Severity'] == \"Serious\"]"
   ]
  },
  {
   "cell_type": "code",
   "execution_count": 25,
   "id": "8efcc3f8-1c0c-4f27-a9a7-2ab1d352b214",
   "metadata": {},
   "outputs": [
    {
     "data": {
      "text/html": [
       "<div>\n",
       "<style scoped>\n",
       "    .dataframe tbody tr th:only-of-type {\n",
       "        vertical-align: middle;\n",
       "    }\n",
       "\n",
       "    .dataframe tbody tr th {\n",
       "        vertical-align: top;\n",
       "    }\n",
       "\n",
       "    .dataframe thead th {\n",
       "        text-align: right;\n",
       "    }\n",
       "</style>\n",
       "<table border=\"1\" class=\"dataframe\">\n",
       "  <thead>\n",
       "    <tr style=\"text-align: right;\">\n",
       "      <th></th>\n",
       "      <th>Index</th>\n",
       "      <th>Accident_Severity</th>\n",
       "      <th>Accident Date</th>\n",
       "      <th>Latitude</th>\n",
       "      <th>Light_Conditions</th>\n",
       "      <th>District Area</th>\n",
       "      <th>Longitude</th>\n",
       "      <th>Number_of_Casualties</th>\n",
       "      <th>Number_of_Vehicles</th>\n",
       "      <th>Road_Surface_Conditions</th>\n",
       "      <th>Road_Type</th>\n",
       "      <th>Urban_or_Rural_Area</th>\n",
       "      <th>Weather_Conditions</th>\n",
       "      <th>Vehicle_Type</th>\n",
       "      <th>Year</th>\n",
       "      <th>Month</th>\n",
       "      <th>Day</th>\n",
       "      <th>DayOfWeek</th>\n",
       "    </tr>\n",
       "  </thead>\n",
       "  <tbody>\n",
       "    <tr>\n",
       "      <th>0</th>\n",
       "      <td>200701BS64157</td>\n",
       "      <td>Serious</td>\n",
       "      <td>2019-06-05</td>\n",
       "      <td>51.506187</td>\n",
       "      <td>Darkness - lights lit</td>\n",
       "      <td>Kensington and Chelsea</td>\n",
       "      <td>-0.209082</td>\n",
       "      <td>1</td>\n",
       "      <td>2</td>\n",
       "      <td>Serious</td>\n",
       "      <td>Single carriageway</td>\n",
       "      <td>Urban</td>\n",
       "      <td>Fine no high winds</td>\n",
       "      <td>Car</td>\n",
       "      <td>2019</td>\n",
       "      <td>6</td>\n",
       "      <td>5</td>\n",
       "      <td>2</td>\n",
       "    </tr>\n",
       "    <tr>\n",
       "      <th>1</th>\n",
       "      <td>200701BS65737</td>\n",
       "      <td>Serious</td>\n",
       "      <td>2019-07-02</td>\n",
       "      <td>51.495029</td>\n",
       "      <td>Daylight</td>\n",
       "      <td>Kensington and Chelsea</td>\n",
       "      <td>-0.173647</td>\n",
       "      <td>1</td>\n",
       "      <td>2</td>\n",
       "      <td>Serious</td>\n",
       "      <td>Single carriageway</td>\n",
       "      <td>Urban</td>\n",
       "      <td>Raining no high winds</td>\n",
       "      <td>Car</td>\n",
       "      <td>2019</td>\n",
       "      <td>7</td>\n",
       "      <td>2</td>\n",
       "      <td>1</td>\n",
       "    </tr>\n",
       "    <tr>\n",
       "      <th>2</th>\n",
       "      <td>200701BS66127</td>\n",
       "      <td>Serious</td>\n",
       "      <td>2019-08-26</td>\n",
       "      <td>51.517715</td>\n",
       "      <td>Darkness - lighting unknown</td>\n",
       "      <td>Kensington and Chelsea</td>\n",
       "      <td>-0.210215</td>\n",
       "      <td>1</td>\n",
       "      <td>3</td>\n",
       "      <td>Serious</td>\n",
       "      <td>Single carriageway</td>\n",
       "      <td>Urban</td>\n",
       "      <td>Fine no high winds</td>\n",
       "      <td>Taxi/Private hire car</td>\n",
       "      <td>2019</td>\n",
       "      <td>8</td>\n",
       "      <td>26</td>\n",
       "      <td>0</td>\n",
       "    </tr>\n",
       "    <tr>\n",
       "      <th>3</th>\n",
       "      <td>200701BS66128</td>\n",
       "      <td>Serious</td>\n",
       "      <td>2019-08-16</td>\n",
       "      <td>51.495478</td>\n",
       "      <td>Daylight</td>\n",
       "      <td>Kensington and Chelsea</td>\n",
       "      <td>-0.202731</td>\n",
       "      <td>1</td>\n",
       "      <td>4</td>\n",
       "      <td>Serious</td>\n",
       "      <td>Single carriageway</td>\n",
       "      <td>Urban</td>\n",
       "      <td>Fine no high winds</td>\n",
       "      <td>Bus or coach (17 or more pass seats)</td>\n",
       "      <td>2019</td>\n",
       "      <td>8</td>\n",
       "      <td>16</td>\n",
       "      <td>4</td>\n",
       "    </tr>\n",
       "    <tr>\n",
       "      <th>5</th>\n",
       "      <td>200701BS67159</td>\n",
       "      <td>Serious</td>\n",
       "      <td>2019-09-18</td>\n",
       "      <td>51.497750</td>\n",
       "      <td>Daylight</td>\n",
       "      <td>Kensington and Chelsea</td>\n",
       "      <td>-0.192556</td>\n",
       "      <td>2</td>\n",
       "      <td>3</td>\n",
       "      <td>Serious</td>\n",
       "      <td>Single carriageway</td>\n",
       "      <td>Urban</td>\n",
       "      <td>Fine no high winds</td>\n",
       "      <td>Car</td>\n",
       "      <td>2019</td>\n",
       "      <td>9</td>\n",
       "      <td>18</td>\n",
       "      <td>2</td>\n",
       "    </tr>\n",
       "    <tr>\n",
       "      <th>...</th>\n",
       "      <td>...</td>\n",
       "      <td>...</td>\n",
       "      <td>...</td>\n",
       "      <td>...</td>\n",
       "      <td>...</td>\n",
       "      <td>...</td>\n",
       "      <td>...</td>\n",
       "      <td>...</td>\n",
       "      <td>...</td>\n",
       "      <td>...</td>\n",
       "      <td>...</td>\n",
       "      <td>...</td>\n",
       "      <td>...</td>\n",
       "      <td>...</td>\n",
       "      <td>...</td>\n",
       "      <td>...</td>\n",
       "      <td>...</td>\n",
       "      <td>...</td>\n",
       "    </tr>\n",
       "    <tr>\n",
       "      <th>660629</th>\n",
       "      <td>201091NL00686</td>\n",
       "      <td>Serious</td>\n",
       "      <td>2022-02-11</td>\n",
       "      <td>57.687933</td>\n",
       "      <td>Daylight</td>\n",
       "      <td>Shetland Islands</td>\n",
       "      <td>-4.176860</td>\n",
       "      <td>1</td>\n",
       "      <td>2</td>\n",
       "      <td>Serious</td>\n",
       "      <td>Single carriageway</td>\n",
       "      <td>Rural</td>\n",
       "      <td>Fine + high winds</td>\n",
       "      <td>Car</td>\n",
       "      <td>2022</td>\n",
       "      <td>2</td>\n",
       "      <td>11</td>\n",
       "      <td>4</td>\n",
       "    </tr>\n",
       "    <tr>\n",
       "      <th>660645</th>\n",
       "      <td>201091NL05842</td>\n",
       "      <td>Serious</td>\n",
       "      <td>2022-10-18</td>\n",
       "      <td>60.162660</td>\n",
       "      <td>Daylight</td>\n",
       "      <td>Shetland Islands</td>\n",
       "      <td>-1.165232</td>\n",
       "      <td>1</td>\n",
       "      <td>1</td>\n",
       "      <td>Serious</td>\n",
       "      <td>Single carriageway</td>\n",
       "      <td>Rural</td>\n",
       "      <td>Fine + high winds</td>\n",
       "      <td>Car</td>\n",
       "      <td>2022</td>\n",
       "      <td>10</td>\n",
       "      <td>18</td>\n",
       "      <td>1</td>\n",
       "    </tr>\n",
       "    <tr>\n",
       "      <th>660672</th>\n",
       "      <td>201091NM01085</td>\n",
       "      <td>Serious</td>\n",
       "      <td>2022-01-29</td>\n",
       "      <td>57.170725</td>\n",
       "      <td>Daylight</td>\n",
       "      <td>Highland</td>\n",
       "      <td>-3.852421</td>\n",
       "      <td>1</td>\n",
       "      <td>2</td>\n",
       "      <td>Serious</td>\n",
       "      <td>Single carriageway</td>\n",
       "      <td>Rural</td>\n",
       "      <td>Fine no high winds</td>\n",
       "      <td>Car</td>\n",
       "      <td>2022</td>\n",
       "      <td>1</td>\n",
       "      <td>29</td>\n",
       "      <td>5</td>\n",
       "    </tr>\n",
       "    <tr>\n",
       "      <th>660677</th>\n",
       "      <td>201091NM01964</td>\n",
       "      <td>Serious</td>\n",
       "      <td>2022-02-23</td>\n",
       "      <td>57.214898</td>\n",
       "      <td>Darkness - no lighting</td>\n",
       "      <td>Highland</td>\n",
       "      <td>-3.823997</td>\n",
       "      <td>1</td>\n",
       "      <td>2</td>\n",
       "      <td>Serious</td>\n",
       "      <td>Single carriageway</td>\n",
       "      <td>Rural</td>\n",
       "      <td>Fine no high winds</td>\n",
       "      <td>Motorcycle over 500cc</td>\n",
       "      <td>2022</td>\n",
       "      <td>2</td>\n",
       "      <td>23</td>\n",
       "      <td>2</td>\n",
       "    </tr>\n",
       "    <tr>\n",
       "      <th>660678</th>\n",
       "      <td>201091NM02142</td>\n",
       "      <td>Serious</td>\n",
       "      <td>2022-02-28</td>\n",
       "      <td>57.575210</td>\n",
       "      <td>Daylight</td>\n",
       "      <td>Highland</td>\n",
       "      <td>-3.895673</td>\n",
       "      <td>1</td>\n",
       "      <td>1</td>\n",
       "      <td>Serious</td>\n",
       "      <td>Dual carriageway</td>\n",
       "      <td>Rural</td>\n",
       "      <td>Snowing no high winds</td>\n",
       "      <td>Car</td>\n",
       "      <td>2022</td>\n",
       "      <td>2</td>\n",
       "      <td>28</td>\n",
       "      <td>0</td>\n",
       "    </tr>\n",
       "  </tbody>\n",
       "</table>\n",
       "<p>88217 rows × 18 columns</p>\n",
       "</div>"
      ],
      "text/plain": [
       "                Index Accident_Severity Accident Date   Latitude  \\\n",
       "0       200701BS64157           Serious    2019-06-05  51.506187   \n",
       "1       200701BS65737           Serious    2019-07-02  51.495029   \n",
       "2       200701BS66127           Serious    2019-08-26  51.517715   \n",
       "3       200701BS66128           Serious    2019-08-16  51.495478   \n",
       "5       200701BS67159           Serious    2019-09-18  51.497750   \n",
       "...               ...               ...           ...        ...   \n",
       "660629  201091NL00686           Serious    2022-02-11  57.687933   \n",
       "660645  201091NL05842           Serious    2022-10-18  60.162660   \n",
       "660672  201091NM01085           Serious    2022-01-29  57.170725   \n",
       "660677  201091NM01964           Serious    2022-02-23  57.214898   \n",
       "660678  201091NM02142           Serious    2022-02-28  57.575210   \n",
       "\n",
       "                   Light_Conditions           District Area  Longitude  \\\n",
       "0             Darkness - lights lit  Kensington and Chelsea  -0.209082   \n",
       "1                          Daylight  Kensington and Chelsea  -0.173647   \n",
       "2       Darkness - lighting unknown  Kensington and Chelsea  -0.210215   \n",
       "3                          Daylight  Kensington and Chelsea  -0.202731   \n",
       "5                          Daylight  Kensington and Chelsea  -0.192556   \n",
       "...                             ...                     ...        ...   \n",
       "660629                     Daylight        Shetland Islands  -4.176860   \n",
       "660645                     Daylight        Shetland Islands  -1.165232   \n",
       "660672                     Daylight                Highland  -3.852421   \n",
       "660677       Darkness - no lighting                Highland  -3.823997   \n",
       "660678                     Daylight                Highland  -3.895673   \n",
       "\n",
       "        Number_of_Casualties  Number_of_Vehicles Road_Surface_Conditions  \\\n",
       "0                          1                   2                 Serious   \n",
       "1                          1                   2                 Serious   \n",
       "2                          1                   3                 Serious   \n",
       "3                          1                   4                 Serious   \n",
       "5                          2                   3                 Serious   \n",
       "...                      ...                 ...                     ...   \n",
       "660629                     1                   2                 Serious   \n",
       "660645                     1                   1                 Serious   \n",
       "660672                     1                   2                 Serious   \n",
       "660677                     1                   2                 Serious   \n",
       "660678                     1                   1                 Serious   \n",
       "\n",
       "                 Road_Type Urban_or_Rural_Area     Weather_Conditions  \\\n",
       "0       Single carriageway               Urban     Fine no high winds   \n",
       "1       Single carriageway               Urban  Raining no high winds   \n",
       "2       Single carriageway               Urban     Fine no high winds   \n",
       "3       Single carriageway               Urban     Fine no high winds   \n",
       "5       Single carriageway               Urban     Fine no high winds   \n",
       "...                    ...                 ...                    ...   \n",
       "660629  Single carriageway               Rural      Fine + high winds   \n",
       "660645  Single carriageway               Rural      Fine + high winds   \n",
       "660672  Single carriageway               Rural     Fine no high winds   \n",
       "660677  Single carriageway               Rural     Fine no high winds   \n",
       "660678    Dual carriageway               Rural  Snowing no high winds   \n",
       "\n",
       "                                Vehicle_Type  Year  Month  Day  DayOfWeek  \n",
       "0                                        Car  2019      6    5          2  \n",
       "1                                        Car  2019      7    2          1  \n",
       "2                      Taxi/Private hire car  2019      8   26          0  \n",
       "3       Bus or coach (17 or more pass seats)  2019      8   16          4  \n",
       "5                                        Car  2019      9   18          2  \n",
       "...                                      ...   ...    ...  ...        ...  \n",
       "660629                                   Car  2022      2   11          4  \n",
       "660645                                   Car  2022     10   18          1  \n",
       "660672                                   Car  2022      1   29          5  \n",
       "660677                 Motorcycle over 500cc  2022      2   23          2  \n",
       "660678                                   Car  2022      2   28          0  \n",
       "\n",
       "[88217 rows x 18 columns]"
      ]
     },
     "execution_count": 25,
     "metadata": {},
     "output_type": "execute_result"
    }
   ],
   "source": [
    "serious_dataf"
   ]
  },
  {
   "cell_type": "code",
   "execution_count": 26,
   "id": "792e02a8-fc0b-4390-9f3a-388f0deb3caf",
   "metadata": {},
   "outputs": [],
   "source": [
    "slight_dataf = uk_accidents[uk_accidents['Accident_Severity'] == \"Slight\"]"
   ]
  },
  {
   "cell_type": "code",
   "execution_count": 27,
   "id": "1cb330d7-81d0-45ae-bc6d-2cca22e88978",
   "metadata": {},
   "outputs": [
    {
     "data": {
      "text/html": [
       "<div>\n",
       "<style scoped>\n",
       "    .dataframe tbody tr th:only-of-type {\n",
       "        vertical-align: middle;\n",
       "    }\n",
       "\n",
       "    .dataframe tbody tr th {\n",
       "        vertical-align: top;\n",
       "    }\n",
       "\n",
       "    .dataframe thead th {\n",
       "        text-align: right;\n",
       "    }\n",
       "</style>\n",
       "<table border=\"1\" class=\"dataframe\">\n",
       "  <thead>\n",
       "    <tr style=\"text-align: right;\">\n",
       "      <th></th>\n",
       "      <th>Index</th>\n",
       "      <th>Accident_Severity</th>\n",
       "      <th>Accident Date</th>\n",
       "      <th>Latitude</th>\n",
       "      <th>Light_Conditions</th>\n",
       "      <th>District Area</th>\n",
       "      <th>Longitude</th>\n",
       "      <th>Number_of_Casualties</th>\n",
       "      <th>Number_of_Vehicles</th>\n",
       "      <th>Road_Surface_Conditions</th>\n",
       "      <th>Road_Type</th>\n",
       "      <th>Urban_or_Rural_Area</th>\n",
       "      <th>Weather_Conditions</th>\n",
       "      <th>Vehicle_Type</th>\n",
       "      <th>Year</th>\n",
       "      <th>Month</th>\n",
       "      <th>Day</th>\n",
       "      <th>DayOfWeek</th>\n",
       "    </tr>\n",
       "  </thead>\n",
       "  <tbody>\n",
       "    <tr>\n",
       "      <th>4</th>\n",
       "      <td>200701BS66837</td>\n",
       "      <td>Slight</td>\n",
       "      <td>2019-09-03</td>\n",
       "      <td>51.488576</td>\n",
       "      <td>Darkness - lights lit</td>\n",
       "      <td>Kensington and Chelsea</td>\n",
       "      <td>-0.192487</td>\n",
       "      <td>1</td>\n",
       "      <td>2</td>\n",
       "      <td>Slight</td>\n",
       "      <td>Single carriageway</td>\n",
       "      <td>Urban</td>\n",
       "      <td>Fine no high winds</td>\n",
       "      <td>Other vehicle</td>\n",
       "      <td>2019</td>\n",
       "      <td>9</td>\n",
       "      <td>3</td>\n",
       "      <td>1</td>\n",
       "    </tr>\n",
       "    <tr>\n",
       "      <th>8</th>\n",
       "      <td>200701BS67515</td>\n",
       "      <td>Slight</td>\n",
       "      <td>2019-10-31</td>\n",
       "      <td>51.493319</td>\n",
       "      <td>Darkness - lights lit</td>\n",
       "      <td>Kensington and Chelsea</td>\n",
       "      <td>-0.173572</td>\n",
       "      <td>1</td>\n",
       "      <td>2</td>\n",
       "      <td>Slight</td>\n",
       "      <td>Single carriageway</td>\n",
       "      <td>Urban</td>\n",
       "      <td>Fine no high winds</td>\n",
       "      <td>Car</td>\n",
       "      <td>2019</td>\n",
       "      <td>10</td>\n",
       "      <td>31</td>\n",
       "      <td>3</td>\n",
       "    </tr>\n",
       "    <tr>\n",
       "      <th>9</th>\n",
       "      <td>200701BS67543</td>\n",
       "      <td>Slight</td>\n",
       "      <td>2019-10-18</td>\n",
       "      <td>51.484539</td>\n",
       "      <td>Daylight</td>\n",
       "      <td>Kensington and Chelsea</td>\n",
       "      <td>-0.175651</td>\n",
       "      <td>1</td>\n",
       "      <td>2</td>\n",
       "      <td>Slight</td>\n",
       "      <td>Single carriageway</td>\n",
       "      <td>Urban</td>\n",
       "      <td>Fine no high winds</td>\n",
       "      <td>Motorcycle over 125cc and up to 500cc</td>\n",
       "      <td>2019</td>\n",
       "      <td>10</td>\n",
       "      <td>18</td>\n",
       "      <td>4</td>\n",
       "    </tr>\n",
       "    <tr>\n",
       "      <th>13</th>\n",
       "      <td>200701BS67853</td>\n",
       "      <td>Slight</td>\n",
       "      <td>2019-11-08</td>\n",
       "      <td>51.508999</td>\n",
       "      <td>Darkness - lights lit</td>\n",
       "      <td>Kensington and Chelsea</td>\n",
       "      <td>-0.210701</td>\n",
       "      <td>3</td>\n",
       "      <td>2</td>\n",
       "      <td>Slight</td>\n",
       "      <td>Single carriageway</td>\n",
       "      <td>Urban</td>\n",
       "      <td>Other</td>\n",
       "      <td>Car</td>\n",
       "      <td>2019</td>\n",
       "      <td>11</td>\n",
       "      <td>8</td>\n",
       "      <td>4</td>\n",
       "    </tr>\n",
       "    <tr>\n",
       "      <th>14</th>\n",
       "      <td>200701BS67859</td>\n",
       "      <td>Slight</td>\n",
       "      <td>2019-11-01</td>\n",
       "      <td>51.485125</td>\n",
       "      <td>Darkness - lights lit</td>\n",
       "      <td>Kensington and Chelsea</td>\n",
       "      <td>-0.167129</td>\n",
       "      <td>1</td>\n",
       "      <td>1</td>\n",
       "      <td>Slight</td>\n",
       "      <td>One way street</td>\n",
       "      <td>Urban</td>\n",
       "      <td>Fine no high winds</td>\n",
       "      <td>Car</td>\n",
       "      <td>2019</td>\n",
       "      <td>11</td>\n",
       "      <td>1</td>\n",
       "      <td>4</td>\n",
       "    </tr>\n",
       "    <tr>\n",
       "      <th>...</th>\n",
       "      <td>...</td>\n",
       "      <td>...</td>\n",
       "      <td>...</td>\n",
       "      <td>...</td>\n",
       "      <td>...</td>\n",
       "      <td>...</td>\n",
       "      <td>...</td>\n",
       "      <td>...</td>\n",
       "      <td>...</td>\n",
       "      <td>...</td>\n",
       "      <td>...</td>\n",
       "      <td>...</td>\n",
       "      <td>...</td>\n",
       "      <td>...</td>\n",
       "      <td>...</td>\n",
       "      <td>...</td>\n",
       "      <td>...</td>\n",
       "      <td>...</td>\n",
       "    </tr>\n",
       "    <tr>\n",
       "      <th>660671</th>\n",
       "      <td>201091NM01053</td>\n",
       "      <td>Slight</td>\n",
       "      <td>2022-01-29</td>\n",
       "      <td>57.572162</td>\n",
       "      <td>Daylight</td>\n",
       "      <td>Highland</td>\n",
       "      <td>-3.930799</td>\n",
       "      <td>1</td>\n",
       "      <td>1</td>\n",
       "      <td>Slight</td>\n",
       "      <td>Single carriageway</td>\n",
       "      <td>Rural</td>\n",
       "      <td>Other</td>\n",
       "      <td>Van / Goods 3.5 tonnes mgw or under</td>\n",
       "      <td>2022</td>\n",
       "      <td>1</td>\n",
       "      <td>29</td>\n",
       "      <td>5</td>\n",
       "    </tr>\n",
       "    <tr>\n",
       "      <th>660673</th>\n",
       "      <td>201091NM01190</td>\n",
       "      <td>Slight</td>\n",
       "      <td>2022-02-02</td>\n",
       "      <td>57.585152</td>\n",
       "      <td>Daylight</td>\n",
       "      <td>Highland</td>\n",
       "      <td>-3.748312</td>\n",
       "      <td>2</td>\n",
       "      <td>2</td>\n",
       "      <td>Slight</td>\n",
       "      <td>Single carriageway</td>\n",
       "      <td>Rural</td>\n",
       "      <td>Fine no high winds</td>\n",
       "      <td>Car</td>\n",
       "      <td>2022</td>\n",
       "      <td>2</td>\n",
       "      <td>2</td>\n",
       "      <td>2</td>\n",
       "    </tr>\n",
       "    <tr>\n",
       "      <th>660674</th>\n",
       "      <td>201091NM01760</td>\n",
       "      <td>Slight</td>\n",
       "      <td>2022-02-18</td>\n",
       "      <td>57.374005</td>\n",
       "      <td>Daylight</td>\n",
       "      <td>Highland</td>\n",
       "      <td>-3.467828</td>\n",
       "      <td>2</td>\n",
       "      <td>1</td>\n",
       "      <td>Slight</td>\n",
       "      <td>Single carriageway</td>\n",
       "      <td>Rural</td>\n",
       "      <td>Fine no high winds</td>\n",
       "      <td>Car</td>\n",
       "      <td>2022</td>\n",
       "      <td>2</td>\n",
       "      <td>18</td>\n",
       "      <td>4</td>\n",
       "    </tr>\n",
       "    <tr>\n",
       "      <th>660675</th>\n",
       "      <td>201091NM01881</td>\n",
       "      <td>Slight</td>\n",
       "      <td>2022-02-21</td>\n",
       "      <td>57.232273</td>\n",
       "      <td>Darkness - no lighting</td>\n",
       "      <td>Highland</td>\n",
       "      <td>-3.809281</td>\n",
       "      <td>1</td>\n",
       "      <td>1</td>\n",
       "      <td>Slight</td>\n",
       "      <td>Single carriageway</td>\n",
       "      <td>Rural</td>\n",
       "      <td>Fine no high winds</td>\n",
       "      <td>Car</td>\n",
       "      <td>2022</td>\n",
       "      <td>2</td>\n",
       "      <td>21</td>\n",
       "      <td>0</td>\n",
       "    </tr>\n",
       "    <tr>\n",
       "      <th>660676</th>\n",
       "      <td>201091NM01935</td>\n",
       "      <td>Slight</td>\n",
       "      <td>2022-02-23</td>\n",
       "      <td>57.585044</td>\n",
       "      <td>Daylight</td>\n",
       "      <td>Highland</td>\n",
       "      <td>-3.862727</td>\n",
       "      <td>1</td>\n",
       "      <td>3</td>\n",
       "      <td>Slight</td>\n",
       "      <td>Single carriageway</td>\n",
       "      <td>Rural</td>\n",
       "      <td>Fine no high winds</td>\n",
       "      <td>Car</td>\n",
       "      <td>2022</td>\n",
       "      <td>2</td>\n",
       "      <td>23</td>\n",
       "      <td>2</td>\n",
       "    </tr>\n",
       "  </tbody>\n",
       "</table>\n",
       "<p>563801 rows × 18 columns</p>\n",
       "</div>"
      ],
      "text/plain": [
       "                Index Accident_Severity Accident Date   Latitude  \\\n",
       "4       200701BS66837            Slight    2019-09-03  51.488576   \n",
       "8       200701BS67515            Slight    2019-10-31  51.493319   \n",
       "9       200701BS67543            Slight    2019-10-18  51.484539   \n",
       "13      200701BS67853            Slight    2019-11-08  51.508999   \n",
       "14      200701BS67859            Slight    2019-11-01  51.485125   \n",
       "...               ...               ...           ...        ...   \n",
       "660671  201091NM01053            Slight    2022-01-29  57.572162   \n",
       "660673  201091NM01190            Slight    2022-02-02  57.585152   \n",
       "660674  201091NM01760            Slight    2022-02-18  57.374005   \n",
       "660675  201091NM01881            Slight    2022-02-21  57.232273   \n",
       "660676  201091NM01935            Slight    2022-02-23  57.585044   \n",
       "\n",
       "              Light_Conditions           District Area  Longitude  \\\n",
       "4        Darkness - lights lit  Kensington and Chelsea  -0.192487   \n",
       "8        Darkness - lights lit  Kensington and Chelsea  -0.173572   \n",
       "9                     Daylight  Kensington and Chelsea  -0.175651   \n",
       "13       Darkness - lights lit  Kensington and Chelsea  -0.210701   \n",
       "14       Darkness - lights lit  Kensington and Chelsea  -0.167129   \n",
       "...                        ...                     ...        ...   \n",
       "660671                Daylight                Highland  -3.930799   \n",
       "660673                Daylight                Highland  -3.748312   \n",
       "660674                Daylight                Highland  -3.467828   \n",
       "660675  Darkness - no lighting                Highland  -3.809281   \n",
       "660676                Daylight                Highland  -3.862727   \n",
       "\n",
       "        Number_of_Casualties  Number_of_Vehicles Road_Surface_Conditions  \\\n",
       "4                          1                   2                  Slight   \n",
       "8                          1                   2                  Slight   \n",
       "9                          1                   2                  Slight   \n",
       "13                         3                   2                  Slight   \n",
       "14                         1                   1                  Slight   \n",
       "...                      ...                 ...                     ...   \n",
       "660671                     1                   1                  Slight   \n",
       "660673                     2                   2                  Slight   \n",
       "660674                     2                   1                  Slight   \n",
       "660675                     1                   1                  Slight   \n",
       "660676                     1                   3                  Slight   \n",
       "\n",
       "                 Road_Type Urban_or_Rural_Area  Weather_Conditions  \\\n",
       "4       Single carriageway               Urban  Fine no high winds   \n",
       "8       Single carriageway               Urban  Fine no high winds   \n",
       "9       Single carriageway               Urban  Fine no high winds   \n",
       "13      Single carriageway               Urban               Other   \n",
       "14          One way street               Urban  Fine no high winds   \n",
       "...                    ...                 ...                 ...   \n",
       "660671  Single carriageway               Rural               Other   \n",
       "660673  Single carriageway               Rural  Fine no high winds   \n",
       "660674  Single carriageway               Rural  Fine no high winds   \n",
       "660675  Single carriageway               Rural  Fine no high winds   \n",
       "660676  Single carriageway               Rural  Fine no high winds   \n",
       "\n",
       "                                 Vehicle_Type  Year  Month  Day  DayOfWeek  \n",
       "4                               Other vehicle  2019      9    3          1  \n",
       "8                                         Car  2019     10   31          3  \n",
       "9       Motorcycle over 125cc and up to 500cc  2019     10   18          4  \n",
       "13                                        Car  2019     11    8          4  \n",
       "14                                        Car  2019     11    1          4  \n",
       "...                                       ...   ...    ...  ...        ...  \n",
       "660671    Van / Goods 3.5 tonnes mgw or under  2022      1   29          5  \n",
       "660673                                    Car  2022      2    2          2  \n",
       "660674                                    Car  2022      2   18          4  \n",
       "660675                                    Car  2022      2   21          0  \n",
       "660676                                    Car  2022      2   23          2  \n",
       "\n",
       "[563801 rows x 18 columns]"
      ]
     },
     "execution_count": 27,
     "metadata": {},
     "output_type": "execute_result"
    }
   ],
   "source": [
    "slight_dataf"
   ]
  },
  {
   "cell_type": "code",
   "execution_count": 28,
   "id": "1c062ce5-5108-4c33-993a-8804bc4f42eb",
   "metadata": {},
   "outputs": [],
   "source": [
    "fatal_dataf = uk_accidents[uk_accidents['Accident_Severity'] == \"Fatal\"]"
   ]
  },
  {
   "cell_type": "markdown",
   "id": "550857c4-e192-40a3-85bb-d9bc5ca7da68",
   "metadata": {},
   "source": [
    "fatal_dataf"
   ]
  },
  {
   "cell_type": "code",
   "execution_count": 29,
   "id": "71c305d0-e412-4c5f-a689-a89a3ca615b4",
   "metadata": {},
   "outputs": [
    {
     "data": {
      "text/plain": [
       "Accident_Severity\n",
       "Serious    88217\n",
       "Fatal          0\n",
       "Slight         0\n",
       "Name: count, dtype: int64"
      ]
     },
     "execution_count": 29,
     "metadata": {},
     "output_type": "execute_result"
    }
   ],
   "source": [
    "serious_dataf[\"Accident_Severity\"].value_counts()"
   ]
  },
  {
   "cell_type": "code",
   "execution_count": 30,
   "id": "ac53f945-ad07-4c20-8546-798a88f988e1",
   "metadata": {},
   "outputs": [
    {
     "data": {
      "text/plain": [
       "Accident_Severity\n",
       "Slight     563801\n",
       "Fatal           0\n",
       "Serious         0\n",
       "Name: count, dtype: int64"
      ]
     },
     "execution_count": 30,
     "metadata": {},
     "output_type": "execute_result"
    }
   ],
   "source": [
    "slight_dataf[\"Accident_Severity\"].value_counts()"
   ]
  },
  {
   "cell_type": "code",
   "execution_count": 31,
   "id": "f5b55fcc-a4a1-4a26-9597-4b9deebb121a",
   "metadata": {},
   "outputs": [
    {
     "data": {
      "text/plain": [
       "Accident_Severity\n",
       "Fatal      8661\n",
       "Serious       0\n",
       "Slight        0\n",
       "Name: count, dtype: int64"
      ]
     },
     "execution_count": 31,
     "metadata": {},
     "output_type": "execute_result"
    }
   ],
   "source": [
    "fatal_dataf[\"Accident_Severity\"].value_counts()"
   ]
  },
  {
   "cell_type": "code",
   "execution_count": 32,
   "id": "5bcca6f6-d5a3-4eae-9a1e-1c9a0f611bb5",
   "metadata": {},
   "outputs": [
    {
     "data": {
      "text/plain": [
       "<Axes: xlabel='Accident_Severity'>"
      ]
     },
     "execution_count": 32,
     "metadata": {},
     "output_type": "execute_result"
    },
    {
     "data": {
      "image/png": "[encoded data removed]",
      "text/plain": [
       "<Figure size 640x480 with 1 Axes>"
      ]
     },
     "metadata": {},
     "output_type": "display_data"
    }
   ],
   "source": [
    "uk_accidents.groupby('Accident_Severity')['Index'].size().plot(kind = 'bar',color = [\"#FF69B4\", \"#FFB6C1\", \"#FFC0CB\"])\n"
   ]
  },
  {
   "cell_type": "markdown",
   "id": "bf9f737f-331a-4e84-9ca9-f3f163d07951",
   "metadata": {},
   "source": [
    "<h3>Insights:\n",
    "Most accidents tend to be <strong>slight<strong>, meaning that while they happen often, they usually result in only minor injuries or damage. <strong>Serious</strong> accidents are much less common, but when they do occur, they can have a big impact, often leading to major injuries and longer recovery times. <strong>Fatal</strong> accidents happen the least, but because they involve the loss of life, every single case carries a huge weight, making it essential to keep working on ways to prevent them.</h3>"
   ]
  },
  {
   "cell_type": "markdown",
   "id": "78b771e9-31c0-4cf3-af57-71a6d22af0b2",
   "metadata": {},
   "source": [
    "<hr>"
   ]
  },
  {
   "cell_type": "markdown",
   "id": "27457d58-61af-4890-93dd-7bbdae8fb7b4",
   "metadata": {},
   "source": [
    "<h2>07. Do the longitude and latitude coordinates of accidents show any correlation?</h2>"
   ]
  },
  {
   "cell_type": "code",
   "execution_count": 33,
   "id": "4aedcab6-ac42-426f-bf5f-59e9f8b20288",
   "metadata": {},
   "outputs": [],
   "source": [
    "geographic_coor = uk_accidents['Latitude'].corr(uk_accidents['Longitude'])"
   ]
  },
  {
   "cell_type": "code",
   "execution_count": 34,
   "id": "97bff7c3-404f-4d02-86e4-0da00a41e519",
   "metadata": {},
   "outputs": [
    {
     "data": {
      "text/plain": [
       "np.float64(-0.3981137948101017)"
      ]
     },
     "execution_count": 34,
     "metadata": {},
     "output_type": "execute_result"
    }
   ],
   "source": [
    "geographic_coor"
   ]
  },
  {
   "cell_type": "markdown",
   "id": "c2e8daea-82cc-4c63-85f7-f28aa8eb6b74",
   "metadata": {},
   "source": [
    "<h3>Insight: There is a moderate negative correlation (-0.40) between longitude and latitude, which probably reflects the general layout of where the accidents happened</h3>"
   ]
  },
  {
   "cell_type": "markdown",
   "id": "41b79083-92c0-4bd4-9700-7e58db363c92",
   "metadata": {},
   "source": [
    "<hr>"
   ]
  },
  {
   "cell_type": "markdown",
   "id": "8c556de9-43bd-4704-9770-653afe09871a",
   "metadata": {},
   "source": [
    "<h2>08. What Light Conditions has the highest number of occured accidents?</h2>"
   ]
  },
  {
   "cell_type": "code",
   "execution_count": 35,
   "id": "b8145e55-f49d-4a50-bbd7-d10435c24738",
   "metadata": {},
   "outputs": [
    {
     "data": {
      "text/plain": [
       "['Darkness - lights lit', 'Daylight', 'Darkness - lighting unknown', 'Darkness - lights unlit', 'Darkness - no lighting']\n",
       "Categories (5, object): ['Darkness - lighting unknown', 'Darkness - lights lit', 'Darkness - lights unlit', 'Darkness - no lighting', 'Daylight']"
      ]
     },
     "execution_count": 35,
     "metadata": {},
     "output_type": "execute_result"
    }
   ],
   "source": [
    "uk_accidents[\"Light_Conditions\"].unique()"
   ]
  },
  {
   "cell_type": "code",
   "execution_count": 36,
   "id": "09f684c6-dfd0-45e0-a861-779f51e2feff",
   "metadata": {},
   "outputs": [
    {
     "data": {
      "text/plain": [
       "Light_Conditions\n",
       "Daylight                       484880\n",
       "Darkness - lights lit          129335\n",
       "Darkness - no lighting          37437\n",
       "Darkness - lighting unknown      6484\n",
       "Darkness - lights unlit          2543\n",
       "Name: count, dtype: int64"
      ]
     },
     "execution_count": 36,
     "metadata": {},
     "output_type": "execute_result"
    }
   ],
   "source": [
    "uk_accidents[\"Light_Conditions\"].value_counts()"
   ]
  },
  {
   "cell_type": "markdown",
   "id": "a1d514f5-2a52-4f74-ae9f-a55a74e4f3ab",
   "metadata": {},
   "source": [
    "<h3>Insight 01: Most accidents occur during <strong>Daylight</strong>, mainly because this is when traffic is heaviest. More people are commuting, working, or traveling, which increases the chances of collisions even though visibility is good.\n",
    "</h3>"
   ]
  },
  {
   "cell_type": "markdown",
   "id": "fb2c43a0-cb15-4c37-a743-c605e0d01c4e",
   "metadata": {},
   "source": [
    "<h3>Insight 02: The fewest accidents happen in <strong>Darkness</strong> – lights unlit. While this is one of the most dangerous conditions to drive in, very few vehicles are actually on the road at these times, so the overall number of accidents stays low.</h3>"
   ]
  },
  {
   "cell_type": "markdown",
   "id": "e7806088-e94e-4f80-8d8d-7336878ceba4",
   "metadata": {},
   "source": [
    "<hr>\n",
    "<h2>09. What type of a vehicle that often engaged from accidents?</h2>"
   ]
  },
  {
   "cell_type": "code",
   "execution_count": 37,
   "id": "d25cedd2-ecb6-4b85-819d-60f5c403e619",
   "metadata": {},
   "outputs": [
    {
     "data": {
      "text/plain": [
       "0    Car\n",
       "Name: Vehicle_Type, dtype: category\n",
       "Categories (16, object): ['Agricultural vehicle', 'Bus or coach (17 or more pass seats)', 'Car', 'Data missing or out of range', ..., 'Pedal cycle', 'Ridden horse', 'Taxi/Private hire car', 'Van / Goods 3.5 tonnes mgw or under']"
      ]
     },
     "execution_count": 37,
     "metadata": {},
     "output_type": "execute_result"
    }
   ],
   "source": [
    "uk_accidents[\"Vehicle_Type\"].mode()"
   ]
  },
  {
   "cell_type": "markdown",
   "id": "9fe7dde1-44af-49a9-8f4c-13e5667aa275",
   "metadata": {},
   "source": [
    "<h3>Insight: The data shows that <strong>cars</strong> are the vehicles most often involved in accidents. This is expected because cars are the most common type of vehicle on the road, so they have more chances of getting into accidents compared to buses, bikes, or other vehicles.</h3>\n",
    "<hr>"
   ]
  },
  {
   "cell_type": "markdown",
   "id": "59b6673a-bc35-4d97-a298-5feb9176b332",
   "metadata": {},
   "source": [
    "<h2>10. What road condition is most common in urban areas, considering that many accidents mostly occur there? </h2>"
   ]
  },
  {
   "cell_type": "code",
   "execution_count": 38,
   "id": "c4f1b9fc-be27-4c31-a660-e8b89fb8150d",
   "metadata": {},
   "outputs": [],
   "source": [
    "urban_area = uk_accidents[uk_accidents['Urban_or_Rural_Area'] == \"Urban\"]"
   ]
  },
  {
   "cell_type": "code",
   "execution_count": 39,
   "id": "b6c2d4fb-361b-4185-bd51-1169944b80ca",
   "metadata": {},
   "outputs": [
    {
     "data": {
      "text/html": [
       "<div>\n",
       "<style scoped>\n",
       "    .dataframe tbody tr th:only-of-type {\n",
       "        vertical-align: middle;\n",
       "    }\n",
       "\n",
       "    .dataframe tbody tr th {\n",
       "        vertical-align: top;\n",
       "    }\n",
       "\n",
       "    .dataframe thead th {\n",
       "        text-align: right;\n",
       "    }\n",
       "</style>\n",
       "<table border=\"1\" class=\"dataframe\">\n",
       "  <thead>\n",
       "    <tr style=\"text-align: right;\">\n",
       "      <th></th>\n",
       "      <th>Index</th>\n",
       "      <th>Accident_Severity</th>\n",
       "      <th>Accident Date</th>\n",
       "      <th>Latitude</th>\n",
       "      <th>Light_Conditions</th>\n",
       "      <th>District Area</th>\n",
       "      <th>Longitude</th>\n",
       "      <th>Number_of_Casualties</th>\n",
       "      <th>Number_of_Vehicles</th>\n",
       "      <th>Road_Surface_Conditions</th>\n",
       "      <th>Road_Type</th>\n",
       "      <th>Urban_or_Rural_Area</th>\n",
       "      <th>Weather_Conditions</th>\n",
       "      <th>Vehicle_Type</th>\n",
       "      <th>Year</th>\n",
       "      <th>Month</th>\n",
       "      <th>Day</th>\n",
       "      <th>DayOfWeek</th>\n",
       "    </tr>\n",
       "  </thead>\n",
       "  <tbody>\n",
       "    <tr>\n",
       "      <th>0</th>\n",
       "      <td>200701BS64157</td>\n",
       "      <td>Serious</td>\n",
       "      <td>2019-06-05</td>\n",
       "      <td>51.506187</td>\n",
       "      <td>Darkness - lights lit</td>\n",
       "      <td>Kensington and Chelsea</td>\n",
       "      <td>-0.209082</td>\n",
       "      <td>1</td>\n",
       "      <td>2</td>\n",
       "      <td>Serious</td>\n",
       "      <td>Single carriageway</td>\n",
       "      <td>Urban</td>\n",
       "      <td>Fine no high winds</td>\n",
       "      <td>Car</td>\n",
       "      <td>2019</td>\n",
       "      <td>6</td>\n",
       "      <td>5</td>\n",
       "      <td>2</td>\n",
       "    </tr>\n",
       "    <tr>\n",
       "      <th>1</th>\n",
       "      <td>200701BS65737</td>\n",
       "      <td>Serious</td>\n",
       "      <td>2019-07-02</td>\n",
       "      <td>51.495029</td>\n",
       "      <td>Daylight</td>\n",
       "      <td>Kensington and Chelsea</td>\n",
       "      <td>-0.173647</td>\n",
       "      <td>1</td>\n",
       "      <td>2</td>\n",
       "      <td>Serious</td>\n",
       "      <td>Single carriageway</td>\n",
       "      <td>Urban</td>\n",
       "      <td>Raining no high winds</td>\n",
       "      <td>Car</td>\n",
       "      <td>2019</td>\n",
       "      <td>7</td>\n",
       "      <td>2</td>\n",
       "      <td>1</td>\n",
       "    </tr>\n",
       "    <tr>\n",
       "      <th>2</th>\n",
       "      <td>200701BS66127</td>\n",
       "      <td>Serious</td>\n",
       "      <td>2019-08-26</td>\n",
       "      <td>51.517715</td>\n",
       "      <td>Darkness - lighting unknown</td>\n",
       "      <td>Kensington and Chelsea</td>\n",
       "      <td>-0.210215</td>\n",
       "      <td>1</td>\n",
       "      <td>3</td>\n",
       "      <td>Serious</td>\n",
       "      <td>Single carriageway</td>\n",
       "      <td>Urban</td>\n",
       "      <td>Fine no high winds</td>\n",
       "      <td>Taxi/Private hire car</td>\n",
       "      <td>2019</td>\n",
       "      <td>8</td>\n",
       "      <td>26</td>\n",
       "      <td>0</td>\n",
       "    </tr>\n",
       "    <tr>\n",
       "      <th>3</th>\n",
       "      <td>200701BS66128</td>\n",
       "      <td>Serious</td>\n",
       "      <td>2019-08-16</td>\n",
       "      <td>51.495478</td>\n",
       "      <td>Daylight</td>\n",
       "      <td>Kensington and Chelsea</td>\n",
       "      <td>-0.202731</td>\n",
       "      <td>1</td>\n",
       "      <td>4</td>\n",
       "      <td>Serious</td>\n",
       "      <td>Single carriageway</td>\n",
       "      <td>Urban</td>\n",
       "      <td>Fine no high winds</td>\n",
       "      <td>Bus or coach (17 or more pass seats)</td>\n",
       "      <td>2019</td>\n",
       "      <td>8</td>\n",
       "      <td>16</td>\n",
       "      <td>4</td>\n",
       "    </tr>\n",
       "    <tr>\n",
       "      <th>4</th>\n",
       "      <td>200701BS66837</td>\n",
       "      <td>Slight</td>\n",
       "      <td>2019-09-03</td>\n",
       "      <td>51.488576</td>\n",
       "      <td>Darkness - lights lit</td>\n",
       "      <td>Kensington and Chelsea</td>\n",
       "      <td>-0.192487</td>\n",
       "      <td>1</td>\n",
       "      <td>2</td>\n",
       "      <td>Slight</td>\n",
       "      <td>Single carriageway</td>\n",
       "      <td>Urban</td>\n",
       "      <td>Fine no high winds</td>\n",
       "      <td>Other vehicle</td>\n",
       "      <td>2019</td>\n",
       "      <td>9</td>\n",
       "      <td>3</td>\n",
       "      <td>1</td>\n",
       "    </tr>\n",
       "    <tr>\n",
       "      <th>...</th>\n",
       "      <td>...</td>\n",
       "      <td>...</td>\n",
       "      <td>...</td>\n",
       "      <td>...</td>\n",
       "      <td>...</td>\n",
       "      <td>...</td>\n",
       "      <td>...</td>\n",
       "      <td>...</td>\n",
       "      <td>...</td>\n",
       "      <td>...</td>\n",
       "      <td>...</td>\n",
       "      <td>...</td>\n",
       "      <td>...</td>\n",
       "      <td>...</td>\n",
       "      <td>...</td>\n",
       "      <td>...</td>\n",
       "      <td>...</td>\n",
       "      <td>...</td>\n",
       "    </tr>\n",
       "    <tr>\n",
       "      <th>660293</th>\n",
       "      <td>201063DP33610</td>\n",
       "      <td>Slight</td>\n",
       "      <td>2022-10-29</td>\n",
       "      <td>52.509366</td>\n",
       "      <td>Daylight</td>\n",
       "      <td>Powys</td>\n",
       "      <td>-3.331382</td>\n",
       "      <td>1</td>\n",
       "      <td>2</td>\n",
       "      <td>Slight</td>\n",
       "      <td>Single carriageway</td>\n",
       "      <td>Urban</td>\n",
       "      <td>Fine + high winds</td>\n",
       "      <td>Car</td>\n",
       "      <td>2022</td>\n",
       "      <td>10</td>\n",
       "      <td>29</td>\n",
       "      <td>5</td>\n",
       "    </tr>\n",
       "    <tr>\n",
       "      <th>660309</th>\n",
       "      <td>201063DP35210</td>\n",
       "      <td>Slight</td>\n",
       "      <td>2022-11-05</td>\n",
       "      <td>52.513065</td>\n",
       "      <td>Daylight</td>\n",
       "      <td>Powys</td>\n",
       "      <td>-3.314105</td>\n",
       "      <td>1</td>\n",
       "      <td>2</td>\n",
       "      <td>Slight</td>\n",
       "      <td>Single carriageway</td>\n",
       "      <td>Urban</td>\n",
       "      <td>Other</td>\n",
       "      <td>Car</td>\n",
       "      <td>2022</td>\n",
       "      <td>11</td>\n",
       "      <td>5</td>\n",
       "      <td>5</td>\n",
       "    </tr>\n",
       "    <tr>\n",
       "      <th>660311</th>\n",
       "      <td>201063DP35410</td>\n",
       "      <td>Fatal</td>\n",
       "      <td>2022-10-28</td>\n",
       "      <td>52.515278</td>\n",
       "      <td>Darkness - lights lit</td>\n",
       "      <td>Powys</td>\n",
       "      <td>-3.317265</td>\n",
       "      <td>1</td>\n",
       "      <td>1</td>\n",
       "      <td>Fatal</td>\n",
       "      <td>Single carriageway</td>\n",
       "      <td>Urban</td>\n",
       "      <td>Fine no high winds</td>\n",
       "      <td>Other vehicle</td>\n",
       "      <td>2022</td>\n",
       "      <td>10</td>\n",
       "      <td>28</td>\n",
       "      <td>4</td>\n",
       "    </tr>\n",
       "    <tr>\n",
       "      <th>660382</th>\n",
       "      <td>201063DP42910</td>\n",
       "      <td>Slight</td>\n",
       "      <td>2022-12-21</td>\n",
       "      <td>52.514222</td>\n",
       "      <td>Daylight</td>\n",
       "      <td>Powys</td>\n",
       "      <td>-3.315171</td>\n",
       "      <td>1</td>\n",
       "      <td>1</td>\n",
       "      <td>Slight</td>\n",
       "      <td>One way street</td>\n",
       "      <td>Urban</td>\n",
       "      <td>Snowing no high winds</td>\n",
       "      <td>Car</td>\n",
       "      <td>2022</td>\n",
       "      <td>12</td>\n",
       "      <td>21</td>\n",
       "      <td>2</td>\n",
       "    </tr>\n",
       "    <tr>\n",
       "      <th>660383</th>\n",
       "      <td>201063DP43110</td>\n",
       "      <td>Slight</td>\n",
       "      <td>2022-10-16</td>\n",
       "      <td>52.520103</td>\n",
       "      <td>Daylight</td>\n",
       "      <td>Powys</td>\n",
       "      <td>-3.303703</td>\n",
       "      <td>1</td>\n",
       "      <td>2</td>\n",
       "      <td>Slight</td>\n",
       "      <td>Single carriageway</td>\n",
       "      <td>Urban</td>\n",
       "      <td>Fine no high winds</td>\n",
       "      <td>Car</td>\n",
       "      <td>2022</td>\n",
       "      <td>10</td>\n",
       "      <td>16</td>\n",
       "      <td>6</td>\n",
       "    </tr>\n",
       "  </tbody>\n",
       "</table>\n",
       "<p>421678 rows × 18 columns</p>\n",
       "</div>"
      ],
      "text/plain": [
       "                Index Accident_Severity Accident Date   Latitude  \\\n",
       "0       200701BS64157           Serious    2019-06-05  51.506187   \n",
       "1       200701BS65737           Serious    2019-07-02  51.495029   \n",
       "2       200701BS66127           Serious    2019-08-26  51.517715   \n",
       "3       200701BS66128           Serious    2019-08-16  51.495478   \n",
       "4       200701BS66837            Slight    2019-09-03  51.488576   \n",
       "...               ...               ...           ...        ...   \n",
       "660293  201063DP33610            Slight    2022-10-29  52.509366   \n",
       "660309  201063DP35210            Slight    2022-11-05  52.513065   \n",
       "660311  201063DP35410             Fatal    2022-10-28  52.515278   \n",
       "660382  201063DP42910            Slight    2022-12-21  52.514222   \n",
       "660383  201063DP43110            Slight    2022-10-16  52.520103   \n",
       "\n",
       "                   Light_Conditions           District Area  Longitude  \\\n",
       "0             Darkness - lights lit  Kensington and Chelsea  -0.209082   \n",
       "1                          Daylight  Kensington and Chelsea  -0.173647   \n",
       "2       Darkness - lighting unknown  Kensington and Chelsea  -0.210215   \n",
       "3                          Daylight  Kensington and Chelsea  -0.202731   \n",
       "4             Darkness - lights lit  Kensington and Chelsea  -0.192487   \n",
       "...                             ...                     ...        ...   \n",
       "660293                     Daylight                   Powys  -3.331382   \n",
       "660309                     Daylight                   Powys  -3.314105   \n",
       "660311        Darkness - lights lit                   Powys  -3.317265   \n",
       "660382                     Daylight                   Powys  -3.315171   \n",
       "660383                     Daylight                   Powys  -3.303703   \n",
       "\n",
       "        Number_of_Casualties  Number_of_Vehicles Road_Surface_Conditions  \\\n",
       "0                          1                   2                 Serious   \n",
       "1                          1                   2                 Serious   \n",
       "2                          1                   3                 Serious   \n",
       "3                          1                   4                 Serious   \n",
       "4                          1                   2                  Slight   \n",
       "...                      ...                 ...                     ...   \n",
       "660293                     1                   2                  Slight   \n",
       "660309                     1                   2                  Slight   \n",
       "660311                     1                   1                   Fatal   \n",
       "660382                     1                   1                  Slight   \n",
       "660383                     1                   2                  Slight   \n",
       "\n",
       "                 Road_Type Urban_or_Rural_Area     Weather_Conditions  \\\n",
       "0       Single carriageway               Urban     Fine no high winds   \n",
       "1       Single carriageway               Urban  Raining no high winds   \n",
       "2       Single carriageway               Urban     Fine no high winds   \n",
       "3       Single carriageway               Urban     Fine no high winds   \n",
       "4       Single carriageway               Urban     Fine no high winds   \n",
       "...                    ...                 ...                    ...   \n",
       "660293  Single carriageway               Urban      Fine + high winds   \n",
       "660309  Single carriageway               Urban                  Other   \n",
       "660311  Single carriageway               Urban     Fine no high winds   \n",
       "660382      One way street               Urban  Snowing no high winds   \n",
       "660383  Single carriageway               Urban     Fine no high winds   \n",
       "\n",
       "                                Vehicle_Type  Year  Month  Day  DayOfWeek  \n",
       "0                                        Car  2019      6    5          2  \n",
       "1                                        Car  2019      7    2          1  \n",
       "2                      Taxi/Private hire car  2019      8   26          0  \n",
       "3       Bus or coach (17 or more pass seats)  2019      8   16          4  \n",
       "4                              Other vehicle  2019      9    3          1  \n",
       "...                                      ...   ...    ...  ...        ...  \n",
       "660293                                   Car  2022     10   29          5  \n",
       "660309                                   Car  2022     11    5          5  \n",
       "660311                         Other vehicle  2022     10   28          4  \n",
       "660382                                   Car  2022     12   21          2  \n",
       "660383                                   Car  2022     10   16          6  \n",
       "\n",
       "[421678 rows x 18 columns]"
      ]
     },
     "execution_count": 39,
     "metadata": {},
     "output_type": "execute_result"
    }
   ],
   "source": [
    "urban_area"
   ]
  },
  {
   "cell_type": "code",
   "execution_count": 40,
   "id": "65028be4-5763-4976-b868-5144b2be3cfe",
   "metadata": {},
   "outputs": [
    {
     "data": {
      "text/plain": [
       "['Serious', 'Slight', 'Fatal']\n",
       "Categories (3, object): ['Fatal', 'Serious', 'Slight']"
      ]
     },
     "execution_count": 40,
     "metadata": {},
     "output_type": "execute_result"
    }
   ],
   "source": [
    "uk_accidents[\"Road_Surface_Conditions\"].unique()"
   ]
  },
  {
   "cell_type": "code",
   "execution_count": 41,
   "id": "9fbdaf0e-5bd6-4f0e-bdaf-0391da69495c",
   "metadata": {},
   "outputs": [],
   "source": [
    "urban_area = uk_accidents[uk_accidents['Urban_or_Rural_Area'] == \"Urban\"][\"Road_Surface_Conditions\"].mode()"
   ]
  },
  {
   "cell_type": "code",
   "execution_count": 42,
   "id": "d3fddefe-7ca7-4eb7-8cd5-0cd50182a5fa",
   "metadata": {},
   "outputs": [
    {
     "data": {
      "text/plain": [
       "0    Slight\n",
       "Name: Road_Surface_Conditions, dtype: category\n",
       "Categories (3, object): ['Fatal', 'Serious', 'Slight']"
      ]
     },
     "execution_count": 42,
     "metadata": {},
     "output_type": "execute_result"
    }
   ],
   "source": [
    "urban_area"
   ]
  },
  {
   "cell_type": "markdown",
   "id": "b35a3b15-c889-46f3-b071-f5d40473ac5a",
   "metadata": {},
   "source": [
    "<h3>Insight: In urban areas, most accidents are <strong>Slight</strong> and often happen even when the roads are dry. This means minor accidents are more about traffic and driver mistakes than about the road being wet or slippery.</h3>\n",
    "<hr>"
   ]
  },
  {
   "cell_type": "markdown",
   "id": "d2024d4f-a2d7-462f-870c-d77861b8fbde",
   "metadata": {},
   "source": [
    "<h2>11. Do accidents on one way street happen more often during daylight or darkness? </h2>"
   ]
  },
  {
   "cell_type": "code",
   "execution_count": 43,
   "id": "93975a4f-068d-4198-b0a1-f5b84a3cc84a",
   "metadata": {},
   "outputs": [
    {
     "data": {
      "text/plain": [
       "['Single carriageway', 'Dual carriageway', 'One way street', 'Roundabout', 'Slip road']\n",
       "Categories (5, object): ['Dual carriageway', 'One way street', 'Roundabout', 'Single carriageway', 'Slip road']"
      ]
     },
     "execution_count": 43,
     "metadata": {},
     "output_type": "execute_result"
    }
   ],
   "source": [
    "uk_accidents['Road_Type'].unique()"
   ]
  },
  {
   "cell_type": "code",
   "execution_count": 44,
   "id": "a9b0c29d-4159-4a04-940a-92985428096e",
   "metadata": {},
   "outputs": [],
   "source": [
    "wet_roads = (uk_accidents[uk_accidents['Road_Type'] == \"One way street\"])"
   ]
  },
  {
   "cell_type": "code",
   "execution_count": 45,
   "id": "509c6ec4-93df-4e68-9ea8-e079fae062a4",
   "metadata": {},
   "outputs": [
    {
     "data": {
      "text/html": [
       "<div>\n",
       "<style scoped>\n",
       "    .dataframe tbody tr th:only-of-type {\n",
       "        vertical-align: middle;\n",
       "    }\n",
       "\n",
       "    .dataframe tbody tr th {\n",
       "        vertical-align: top;\n",
       "    }\n",
       "\n",
       "    .dataframe thead th {\n",
       "        text-align: right;\n",
       "    }\n",
       "</style>\n",
       "<table border=\"1\" class=\"dataframe\">\n",
       "  <thead>\n",
       "    <tr style=\"text-align: right;\">\n",
       "      <th></th>\n",
       "      <th>Index</th>\n",
       "      <th>Accident_Severity</th>\n",
       "      <th>Accident Date</th>\n",
       "      <th>Latitude</th>\n",
       "      <th>Light_Conditions</th>\n",
       "      <th>District Area</th>\n",
       "      <th>Longitude</th>\n",
       "      <th>Number_of_Casualties</th>\n",
       "      <th>Number_of_Vehicles</th>\n",
       "      <th>Road_Surface_Conditions</th>\n",
       "      <th>Road_Type</th>\n",
       "      <th>Urban_or_Rural_Area</th>\n",
       "      <th>Weather_Conditions</th>\n",
       "      <th>Vehicle_Type</th>\n",
       "      <th>Year</th>\n",
       "      <th>Month</th>\n",
       "      <th>Day</th>\n",
       "      <th>DayOfWeek</th>\n",
       "    </tr>\n",
       "  </thead>\n",
       "  <tbody>\n",
       "    <tr>\n",
       "      <th>14</th>\n",
       "      <td>200701BS67859</td>\n",
       "      <td>Slight</td>\n",
       "      <td>2019-11-01</td>\n",
       "      <td>51.485125</td>\n",
       "      <td>Darkness - lights lit</td>\n",
       "      <td>Kensington and Chelsea</td>\n",
       "      <td>-0.167129</td>\n",
       "      <td>1</td>\n",
       "      <td>1</td>\n",
       "      <td>Slight</td>\n",
       "      <td>One way street</td>\n",
       "      <td>Urban</td>\n",
       "      <td>Fine no high winds</td>\n",
       "      <td>Car</td>\n",
       "      <td>2019</td>\n",
       "      <td>11</td>\n",
       "      <td>1</td>\n",
       "      <td>4</td>\n",
       "    </tr>\n",
       "    <tr>\n",
       "      <th>126</th>\n",
       "      <td>200701BS70121</td>\n",
       "      <td>Slight</td>\n",
       "      <td>2019-03-15</td>\n",
       "      <td>51.497470</td>\n",
       "      <td>Darkness - lights lit</td>\n",
       "      <td>Kensington and Chelsea</td>\n",
       "      <td>-0.197754</td>\n",
       "      <td>1</td>\n",
       "      <td>2</td>\n",
       "      <td>Slight</td>\n",
       "      <td>One way street</td>\n",
       "      <td>Urban</td>\n",
       "      <td>Fine no high winds</td>\n",
       "      <td>Car</td>\n",
       "      <td>2019</td>\n",
       "      <td>3</td>\n",
       "      <td>15</td>\n",
       "      <td>4</td>\n",
       "    </tr>\n",
       "    <tr>\n",
       "      <th>169</th>\n",
       "      <td>200701BS70171</td>\n",
       "      <td>Slight</td>\n",
       "      <td>2019-04-03</td>\n",
       "      <td>51.518298</td>\n",
       "      <td>Darkness - lights lit</td>\n",
       "      <td>Kensington and Chelsea</td>\n",
       "      <td>-0.207166</td>\n",
       "      <td>1</td>\n",
       "      <td>3</td>\n",
       "      <td>Slight</td>\n",
       "      <td>One way street</td>\n",
       "      <td>Urban</td>\n",
       "      <td>Fine no high winds</td>\n",
       "      <td>Motorcycle 50cc and under</td>\n",
       "      <td>2019</td>\n",
       "      <td>4</td>\n",
       "      <td>3</td>\n",
       "      <td>2</td>\n",
       "    </tr>\n",
       "    <tr>\n",
       "      <th>188</th>\n",
       "      <td>200701BS70192</td>\n",
       "      <td>Slight</td>\n",
       "      <td>2019-04-19</td>\n",
       "      <td>51.492622</td>\n",
       "      <td>Daylight</td>\n",
       "      <td>Kensington and Chelsea</td>\n",
       "      <td>-0.157753</td>\n",
       "      <td>1</td>\n",
       "      <td>2</td>\n",
       "      <td>Slight</td>\n",
       "      <td>One way street</td>\n",
       "      <td>Urban</td>\n",
       "      <td>Fine no high winds</td>\n",
       "      <td>Car</td>\n",
       "      <td>2019</td>\n",
       "      <td>4</td>\n",
       "      <td>19</td>\n",
       "      <td>4</td>\n",
       "    </tr>\n",
       "    <tr>\n",
       "      <th>193</th>\n",
       "      <td>200701BS70198</td>\n",
       "      <td>Slight</td>\n",
       "      <td>2019-04-22</td>\n",
       "      <td>51.508763</td>\n",
       "      <td>Darkness - lights lit</td>\n",
       "      <td>Kensington and Chelsea</td>\n",
       "      <td>-0.195291</td>\n",
       "      <td>1</td>\n",
       "      <td>1</td>\n",
       "      <td>Slight</td>\n",
       "      <td>One way street</td>\n",
       "      <td>Urban</td>\n",
       "      <td>Fine no high winds</td>\n",
       "      <td>Motorcycle 125cc and under</td>\n",
       "      <td>2019</td>\n",
       "      <td>4</td>\n",
       "      <td>22</td>\n",
       "      <td>0</td>\n",
       "    </tr>\n",
       "    <tr>\n",
       "      <th>...</th>\n",
       "      <td>...</td>\n",
       "      <td>...</td>\n",
       "      <td>...</td>\n",
       "      <td>...</td>\n",
       "      <td>...</td>\n",
       "      <td>...</td>\n",
       "      <td>...</td>\n",
       "      <td>...</td>\n",
       "      <td>...</td>\n",
       "      <td>...</td>\n",
       "      <td>...</td>\n",
       "      <td>...</td>\n",
       "      <td>...</td>\n",
       "      <td>...</td>\n",
       "      <td>...</td>\n",
       "      <td>...</td>\n",
       "      <td>...</td>\n",
       "      <td>...</td>\n",
       "    </tr>\n",
       "    <tr>\n",
       "      <th>660378</th>\n",
       "      <td>201063DP42510</td>\n",
       "      <td>Slight</td>\n",
       "      <td>2022-12-27</td>\n",
       "      <td>52.239984</td>\n",
       "      <td>Darkness - lights lit</td>\n",
       "      <td>Powys</td>\n",
       "      <td>-3.379545</td>\n",
       "      <td>1</td>\n",
       "      <td>1</td>\n",
       "      <td>Slight</td>\n",
       "      <td>One way street</td>\n",
       "      <td>Rural</td>\n",
       "      <td>Other</td>\n",
       "      <td>Motorcycle over 500cc</td>\n",
       "      <td>2022</td>\n",
       "      <td>12</td>\n",
       "      <td>27</td>\n",
       "      <td>1</td>\n",
       "    </tr>\n",
       "    <tr>\n",
       "      <th>660382</th>\n",
       "      <td>201063DP42910</td>\n",
       "      <td>Slight</td>\n",
       "      <td>2022-12-21</td>\n",
       "      <td>52.514222</td>\n",
       "      <td>Daylight</td>\n",
       "      <td>Powys</td>\n",
       "      <td>-3.315171</td>\n",
       "      <td>1</td>\n",
       "      <td>1</td>\n",
       "      <td>Slight</td>\n",
       "      <td>One way street</td>\n",
       "      <td>Urban</td>\n",
       "      <td>Snowing no high winds</td>\n",
       "      <td>Car</td>\n",
       "      <td>2022</td>\n",
       "      <td>12</td>\n",
       "      <td>21</td>\n",
       "      <td>2</td>\n",
       "    </tr>\n",
       "    <tr>\n",
       "      <th>660389</th>\n",
       "      <td>201091NE00150</td>\n",
       "      <td>Slight</td>\n",
       "      <td>2022-01-04</td>\n",
       "      <td>57.558908</td>\n",
       "      <td>Daylight</td>\n",
       "      <td>Highland</td>\n",
       "      <td>-4.437317</td>\n",
       "      <td>1</td>\n",
       "      <td>2</td>\n",
       "      <td>Slight</td>\n",
       "      <td>One way street</td>\n",
       "      <td>Rural</td>\n",
       "      <td>Snowing no high winds</td>\n",
       "      <td>Minibus (8 - 16 passenger seats)</td>\n",
       "      <td>2022</td>\n",
       "      <td>1</td>\n",
       "      <td>4</td>\n",
       "      <td>1</td>\n",
       "    </tr>\n",
       "    <tr>\n",
       "      <th>660603</th>\n",
       "      <td>201091NK01567</td>\n",
       "      <td>Slight</td>\n",
       "      <td>2022-03-29</td>\n",
       "      <td>58.984492</td>\n",
       "      <td>Darkness - lights lit</td>\n",
       "      <td>Orkney Islands</td>\n",
       "      <td>-2.958773</td>\n",
       "      <td>1</td>\n",
       "      <td>1</td>\n",
       "      <td>Slight</td>\n",
       "      <td>One way street</td>\n",
       "      <td>Rural</td>\n",
       "      <td>Fine no high winds</td>\n",
       "      <td>Car</td>\n",
       "      <td>2022</td>\n",
       "      <td>3</td>\n",
       "      <td>29</td>\n",
       "      <td>1</td>\n",
       "    </tr>\n",
       "    <tr>\n",
       "      <th>660613</th>\n",
       "      <td>201091NK03455</td>\n",
       "      <td>Serious</td>\n",
       "      <td>2022-07-13</td>\n",
       "      <td>58.982692</td>\n",
       "      <td>Daylight</td>\n",
       "      <td>Orkney Islands</td>\n",
       "      <td>-2.959245</td>\n",
       "      <td>1</td>\n",
       "      <td>1</td>\n",
       "      <td>Serious</td>\n",
       "      <td>One way street</td>\n",
       "      <td>Rural</td>\n",
       "      <td>Fine no high winds</td>\n",
       "      <td>Car</td>\n",
       "      <td>2022</td>\n",
       "      <td>7</td>\n",
       "      <td>13</td>\n",
       "      <td>2</td>\n",
       "    </tr>\n",
       "  </tbody>\n",
       "</table>\n",
       "<p>13559 rows × 18 columns</p>\n",
       "</div>"
      ],
      "text/plain": [
       "                Index Accident_Severity Accident Date   Latitude  \\\n",
       "14      200701BS67859            Slight    2019-11-01  51.485125   \n",
       "126     200701BS70121            Slight    2019-03-15  51.497470   \n",
       "169     200701BS70171            Slight    2019-04-03  51.518298   \n",
       "188     200701BS70192            Slight    2019-04-19  51.492622   \n",
       "193     200701BS70198            Slight    2019-04-22  51.508763   \n",
       "...               ...               ...           ...        ...   \n",
       "660378  201063DP42510            Slight    2022-12-27  52.239984   \n",
       "660382  201063DP42910            Slight    2022-12-21  52.514222   \n",
       "660389  201091NE00150            Slight    2022-01-04  57.558908   \n",
       "660603  201091NK01567            Slight    2022-03-29  58.984492   \n",
       "660613  201091NK03455           Serious    2022-07-13  58.982692   \n",
       "\n",
       "             Light_Conditions           District Area  Longitude  \\\n",
       "14      Darkness - lights lit  Kensington and Chelsea  -0.167129   \n",
       "126     Darkness - lights lit  Kensington and Chelsea  -0.197754   \n",
       "169     Darkness - lights lit  Kensington and Chelsea  -0.207166   \n",
       "188                  Daylight  Kensington and Chelsea  -0.157753   \n",
       "193     Darkness - lights lit  Kensington and Chelsea  -0.195291   \n",
       "...                       ...                     ...        ...   \n",
       "660378  Darkness - lights lit                   Powys  -3.379545   \n",
       "660382               Daylight                   Powys  -3.315171   \n",
       "660389               Daylight                Highland  -4.437317   \n",
       "660603  Darkness - lights lit          Orkney Islands  -2.958773   \n",
       "660613               Daylight          Orkney Islands  -2.959245   \n",
       "\n",
       "        Number_of_Casualties  Number_of_Vehicles Road_Surface_Conditions  \\\n",
       "14                         1                   1                  Slight   \n",
       "126                        1                   2                  Slight   \n",
       "169                        1                   3                  Slight   \n",
       "188                        1                   2                  Slight   \n",
       "193                        1                   1                  Slight   \n",
       "...                      ...                 ...                     ...   \n",
       "660378                     1                   1                  Slight   \n",
       "660382                     1                   1                  Slight   \n",
       "660389                     1                   2                  Slight   \n",
       "660603                     1                   1                  Slight   \n",
       "660613                     1                   1                 Serious   \n",
       "\n",
       "             Road_Type Urban_or_Rural_Area     Weather_Conditions  \\\n",
       "14      One way street               Urban     Fine no high winds   \n",
       "126     One way street               Urban     Fine no high winds   \n",
       "169     One way street               Urban     Fine no high winds   \n",
       "188     One way street               Urban     Fine no high winds   \n",
       "193     One way street               Urban     Fine no high winds   \n",
       "...                ...                 ...                    ...   \n",
       "660378  One way street               Rural                  Other   \n",
       "660382  One way street               Urban  Snowing no high winds   \n",
       "660389  One way street               Rural  Snowing no high winds   \n",
       "660603  One way street               Rural     Fine no high winds   \n",
       "660613  One way street               Rural     Fine no high winds   \n",
       "\n",
       "                            Vehicle_Type  Year  Month  Day  DayOfWeek  \n",
       "14                                   Car  2019     11    1          4  \n",
       "126                                  Car  2019      3   15          4  \n",
       "169            Motorcycle 50cc and under  2019      4    3          2  \n",
       "188                                  Car  2019      4   19          4  \n",
       "193           Motorcycle 125cc and under  2019      4   22          0  \n",
       "...                                  ...   ...    ...  ...        ...  \n",
       "660378             Motorcycle over 500cc  2022     12   27          1  \n",
       "660382                               Car  2022     12   21          2  \n",
       "660389  Minibus (8 - 16 passenger seats)  2022      1    4          1  \n",
       "660603                               Car  2022      3   29          1  \n",
       "660613                               Car  2022      7   13          2  \n",
       "\n",
       "[13559 rows x 18 columns]"
      ]
     },
     "execution_count": 45,
     "metadata": {},
     "output_type": "execute_result"
    }
   ],
   "source": [
    "wet_roads"
   ]
  },
  {
   "cell_type": "code",
   "execution_count": 46,
   "id": "6e6b6c00-db06-4292-a419-473b89b0e409",
   "metadata": {},
   "outputs": [
    {
     "data": {
      "text/plain": [
       "['Darkness - lights lit', 'Daylight', 'Darkness - lighting unknown', 'Darkness - lights unlit', 'Darkness - no lighting']\n",
       "Categories (5, object): ['Darkness - lighting unknown', 'Darkness - lights lit', 'Darkness - lights unlit', 'Darkness - no lighting', 'Daylight']"
      ]
     },
     "execution_count": 46,
     "metadata": {},
     "output_type": "execute_result"
    }
   ],
   "source": [
    "uk_accidents['Light_Conditions'].unique()"
   ]
  },
  {
   "cell_type": "code",
   "execution_count": 47,
   "id": "f6390fdf-eaa2-4b56-9ce8-319216e72343",
   "metadata": {},
   "outputs": [],
   "source": [
    "wet_areas = uk_accidents[uk_accidents['Road_Type'] == \"One way street\"][\"Light_Conditions\"].mode()"
   ]
  },
  {
   "cell_type": "code",
   "execution_count": 48,
   "id": "30e7249b-d3eb-4bea-b6f8-f49354ac8370",
   "metadata": {},
   "outputs": [
    {
     "data": {
      "text/plain": [
       "Light_Conditions\n",
       "Daylight                       1\n",
       "Darkness - lighting unknown    0\n",
       "Darkness - lights lit          0\n",
       "Darkness - lights unlit        0\n",
       "Darkness - no lighting         0\n",
       "Name: count, dtype: int64"
      ]
     },
     "execution_count": 48,
     "metadata": {},
     "output_type": "execute_result"
    }
   ],
   "source": [
    "wet_areas.value_counts()"
   ]
  },
  {
   "cell_type": "markdown",
   "id": "bbceb09f-7b7d-4441-accd-d29a7449419f",
   "metadata": {},
   "source": [
    "<h3>Insights: Most one-way street accidents happen in <strong>daylight</strong>, showing that accidents can still occur even when the road is clearly visible. This suggests that driver behavior and traffic flow are bigger factors than poor visibility. On the other hand, <strong>darkness</strong> is not a common reason for accidents on one-way streets. Even though dark roads could make driving harder, the data shows it doesn’t play a big role here compared to daytime driving risks.</h3>"
   ]
  },
  {
   "cell_type": "markdown",
   "id": "b48e69b1-f162-4ce5-ac0f-a05bbc93b443",
   "metadata": {},
   "source": [
    "<h2>12. Do single-carriageway roads have more severe accidents than other road types?</h2>"
   ]
  },
  {
   "cell_type": "code",
   "execution_count": 49,
   "id": "2b626cfa-3e56-45e4-a9f9-dacfd54ba4a6",
   "metadata": {},
   "outputs": [],
   "source": [
    "weather_s = uk_accidents.groupby(['Road_Type', 'Accident_Severity']).size().unstack()"
   ]
  },
  {
   "cell_type": "code",
   "execution_count": 50,
   "id": "b2bf5d5e-5c43-400e-a7fa-c2bdb2dac446",
   "metadata": {},
   "outputs": [
    {
     "data": {
      "text/html": [
       "<div>\n",
       "<style scoped>\n",
       "    .dataframe tbody tr th:only-of-type {\n",
       "        vertical-align: middle;\n",
       "    }\n",
       "\n",
       "    .dataframe tbody tr th {\n",
       "        vertical-align: top;\n",
       "    }\n",
       "\n",
       "    .dataframe thead th {\n",
       "        text-align: right;\n",
       "    }\n",
       "</style>\n",
       "<table border=\"1\" class=\"dataframe\">\n",
       "  <thead>\n",
       "    <tr style=\"text-align: right;\">\n",
       "      <th>Accident_Severity</th>\n",
       "      <th>Fatal</th>\n",
       "      <th>Serious</th>\n",
       "      <th>Slight</th>\n",
       "    </tr>\n",
       "    <tr>\n",
       "      <th>Road_Type</th>\n",
       "      <th></th>\n",
       "      <th></th>\n",
       "      <th></th>\n",
       "    </tr>\n",
       "  </thead>\n",
       "  <tbody>\n",
       "    <tr>\n",
       "      <th>Dual carriageway</th>\n",
       "      <td>1815</td>\n",
       "      <td>11746</td>\n",
       "      <td>85863</td>\n",
       "    </tr>\n",
       "    <tr>\n",
       "      <th>One way street</th>\n",
       "      <td>95</td>\n",
       "      <td>1655</td>\n",
       "      <td>11809</td>\n",
       "    </tr>\n",
       "    <tr>\n",
       "      <th>Roundabout</th>\n",
       "      <td>142</td>\n",
       "      <td>3665</td>\n",
       "      <td>40185</td>\n",
       "    </tr>\n",
       "    <tr>\n",
       "      <th>Single carriageway</th>\n",
       "      <td>6560</td>\n",
       "      <td>70540</td>\n",
       "      <td>419563</td>\n",
       "    </tr>\n",
       "    <tr>\n",
       "      <th>Slip road</th>\n",
       "      <td>49</td>\n",
       "      <td>611</td>\n",
       "      <td>6381</td>\n",
       "    </tr>\n",
       "  </tbody>\n",
       "</table>\n",
       "</div>"
      ],
      "text/plain": [
       "Accident_Severity   Fatal  Serious  Slight\n",
       "Road_Type                                 \n",
       "Dual carriageway     1815    11746   85863\n",
       "One way street         95     1655   11809\n",
       "Roundabout            142     3665   40185\n",
       "Single carriageway   6560    70540  419563\n",
       "Slip road              49      611    6381"
      ]
     },
     "execution_count": 50,
     "metadata": {},
     "output_type": "execute_result"
    }
   ],
   "source": [
    "weather_s"
   ]
  },
  {
   "cell_type": "code",
   "execution_count": 51,
   "id": "974203e2-f371-48f4-9f59-5e415b570c82",
   "metadata": {},
   "outputs": [
    {
     "ename": "NameError",
     "evalue": "name 'df' is not defined",
     "output_type": "error",
     "traceback": [
      "\u001b[31m---------------------------------------------------------------------------\u001b[39m",
      "\u001b[31mNameError\u001b[39m                                 Traceback (most recent call last)",
      "\u001b[36mCell\u001b[39m\u001b[36m \u001b[39m\u001b[32mIn[51]\u001b[39m\u001b[32m, line 11\u001b[39m\n\u001b[32m      8\u001b[39m road_severity = pd.DataFrame(road_severity)\n\u001b[32m      9\u001b[39m road_severity.set_index(\u001b[33m\"\u001b[39m\u001b[33mRoad_Type\u001b[39m\u001b[33m\"\u001b[39m, inplace=\u001b[38;5;28;01mTrue\u001b[39;00m)\n\u001b[32m---> \u001b[39m\u001b[32m11\u001b[39m severirty_s = \u001b[43mdf\u001b[49m[[\u001b[33m\"\u001b[39m\u001b[33mFatal\u001b[39m\u001b[33m\"\u001b[39m, \u001b[33m\"\u001b[39m\u001b[33mSerious\u001b[39m\u001b[33m\"\u001b[39m, \u001b[33m\"\u001b[39m\u001b[33mSlight\u001b[39m\u001b[33m\"\u001b[39m]]\n\u001b[32m     12\u001b[39m severirty_s.plot(kind = \u001b[33m\"\u001b[39m\u001b[33mbar\u001b[39m\u001b[33m\"\u001b[39m, figsize = (\u001b[32m10\u001b[39m,\u001b[32m6\u001b[39m), color = [\u001b[33m\"\u001b[39m\u001b[33m#FFC0CB\u001b[39m\u001b[33m\"\u001b[39m, \u001b[33m\"\u001b[39m\u001b[33m#FFB6C1\u001b[39m\u001b[33m\"\u001b[39m, \u001b[33m\"\u001b[39m\u001b[33m#FF69B4\u001b[39m\u001b[33m\"\u001b[39m])\n\u001b[32m     14\u001b[39m plt.title(\u001b[33m\"\u001b[39m\u001b[33mAccident Severity by Road Type\u001b[39m\u001b[33m\"\u001b[39m)\n",
      "\u001b[31mNameError\u001b[39m: name 'df' is not defined"
     ]
    }
   ],
   "source": [
    "road_severity = {\n",
    "    \"Road_Type\": [\"Dual carriageway\", \"One way street\", \"Roundabout\", \"Single carriageway\", \"Slip road\"],\n",
    "    \"Fatal\": [1815, 95, 142, 6560, 49],\n",
    "    \"Serious\": [11746, 1655, 3665, 70540, 611],\n",
    "    \"Slight\": [85863, 11809, 40185, 419563, 6381]\n",
    "}\n",
    "\n",
    "road_severity = pd.DataFrame(road_severity)\n",
    "road_severity.set_index(\"Road_Type\", inplace=True)\n",
    "\n",
    "severirty_s = df[[\"Fatal\", \"Serious\", \"Slight\"]]\n",
    "severirty_s.plot(kind = \"bar\", figsize = (10,6), color = [\"#FFC0CB\", \"#FFB6C1\", \"#FF69B4\"])\n",
    "\n",
    "plt.title(\"Accident Severity by Road Type\")\n",
    "plt.xlabel(\"Road Type\")\n",
    "plt.ylabel(\"Number of Accidents\")\n",
    "plt.legend(title = \"Accident Severity\")\n",
    "plt.xticks(rotation = 45)\n",
    "plt.tight_layout()\n",
    "plt.show()"
   ]
  },
  {
   "cell_type": "markdown",
   "id": "adc8179d-46b2-4ab4-978f-7a454406389b",
   "metadata": {},
   "source": [
    "<h3>Insight 01: The data shows that <strong>single-carriageway</strong> roads have the most severe accidents. This happens because many vehicles pass through them even though there’s no divider, making head-on crashes more likely. Some drivers also use these roads as shortcuts, even when they are not meant for heavy traffic.</h3>"
   ]
  },
  {
   "cell_type": "markdown",
   "id": "855314bf-b584-4670-88a3-376e79874aaf",
   "metadata": {},
   "source": [
    "<h3>Insight 02: <strong>Dual carriageways</strong> did not record the highest number of severe accidents. This is because they have a central divider separating traffic, which lowers the chance of head-on collisions and makes driving safer compared to single-carriageways.</h3>"
   ]
  },
  {
   "cell_type": "markdown",
   "id": "0f7e91f2-0911-4d6f-9a1b-ed3b29294848",
   "metadata": {},
   "source": [
    "<h3>Insight 03: Other road types, like<strong>one-way streets, roundabouts, and slip roads</strong>, show fewer severe accidents. This may be because traffic is more controlled, with clear directions and restrictions that reduce the chances of high-impact crashes.</h3>"
   ]
  },
  {
   "cell_type": "markdown",
   "id": "78097b16-9aa7-48a1-89ba-f5291ef0ff60",
   "metadata": {},
   "source": [
    "<hr>\n",
    "<h3>Years dataframes</h3>"
   ]
  },
  {
   "cell_type": "code",
   "execution_count": null,
   "id": "f32a88d6-cad1-4a1f-b4a1-bd4dd7e00292",
   "metadata": {},
   "outputs": [],
   "source": [
    "accident_2019 = uk_accidents[uk_accidents['Year'] == 2019]\n",
    "accident_2020 = uk_accidents[uk_accidents['Year'] == 2020]\n",
    "accident_2021 = uk_accidents[uk_accidents['Year'] == 2021]\n",
    "accident_2022 = uk_accidents[uk_accidents['Year'] == 2022]"
   ]
  },
  {
   "cell_type": "markdown",
   "id": "469554cf-cb71-4fb9-ba0a-5649c30072bc",
   "metadata": {},
   "source": [
    "<hr>"
   ]
  },
  {
   "cell_type": "markdown",
   "id": "55ce397f-e69f-48f5-8187-63cc42c8eafc",
   "metadata": {},
   "source": [
    "<h2>13.In 2019, which weather conditions caused to road accidents?</h2>"
   ]
  },
  {
   "cell_type": "code",
   "execution_count": null,
   "id": "fc09ed46-038e-480e-800f-c15ce781ff6f",
   "metadata": {},
   "outputs": [],
   "source": [
    "accident_2019 = uk_accidents[uk_accidents['Year'] == 2019]\n",
    "weather_counts = accident_2019['Weather_Conditions'].value_counts()"
   ]
  },
  {
   "cell_type": "code",
   "execution_count": null,
   "id": "43d5660f-c3e6-4bfb-8ed5-7a2dd58494bc",
   "metadata": {},
   "outputs": [],
   "source": [
    "plt.figure(figsize=(10,6))\n",
    "plt.plot(\n",
    "    weather_counts.index, \n",
    "    weather_counts.values, \n",
    "    marker = '>', \n",
    "    linestyle = '-', \n",
    "    color = 'hotpink'\n",
    ")\n",
    "\n",
    "plt.title(\"Weather Conditions Leading to Accidents in the year 2019\")\n",
    "plt.xlabel(\"Weather Conditions\")\n",
    "plt.ylabel(\"Number of Accidents\")\n",
    "plt.xticks(rotation = 45)\n",
    "plt.tight_layout()\n",
    "plt.show()"
   ]
  },
  {
   "cell_type": "markdown",
   "id": "b15212a9-29a3-409b-b72b-f52296e157d2",
   "metadata": {},
   "source": [
    "<h3>Insight: In 2019, most accidents happened when the weather was <strong>fine with no strong winds</strong>. The line graph shows this condition had the highest number of accidents. This means accidents can still happen even in good weather, mostly because of drivers and heavy traffic, not just the weather.</h3>"
   ]
  },
  {
   "cell_type": "markdown",
   "id": "c733f976-b30d-4386-b47d-4c6f73790ff7",
   "metadata": {},
   "source": [
    "<h2>14. In the years 2019 to 2022, how does accident severity vary between rural and urban areas, and what were the corresponding weather conditions during those accidents?</h2>\n",
    "\n"
   ]
  },
  {
   "cell_type": "code",
   "execution_count": null,
   "id": "d54ed7b0-4a75-43b4-8b91-fcc4340c9e36",
   "metadata": {},
   "outputs": [],
   "source": [
    "accidents = uk_accidents.groupby(['Urban_or_Rural_Area', 'Accident_Severity', 'Light_Conditions'])['Year'].size()\n",
    "accidents.unstack()"
   ]
  },
  {
   "cell_type": "markdown",
   "id": "f9e28459-6844-4e6d-ab13-a44696f8aa53",
   "metadata": {},
   "source": [
    "<h3>Insight 01: In Urban, most accidents happen during the day and also at night even when streetlights are on. This means that lights help, but they don’t stop accidents. Urban roads are busy with cars and people, so it’s easy for accidents to happen.</h3>"
   ]
  },
  {
   "cell_type": "markdown",
   "id": "a38a48a5-2b4a-45d9-b455-0d9f1cb4d0a9",
   "metadata": {},
   "source": [
    "<h3>Insight 02: Overall, urban have more accidents because of heavy traffic, but rural areas are more dangerous at night without lighting. So, accidents in urban happen more often, while in the rural, accidents can be more serious when it’s dark.</h3>"
   ]
  },
  {
   "cell_type": "markdown",
   "id": "ad16d924-68cb-43ed-8bd9-9531bacacca8",
   "metadata": {},
   "source": [
    "<h2>15. Among the years 2019 to 2022, which year recorded the highest number of accidents and which recorded the lowest?</h2>"
   ]
  },
  {
   "cell_type": "code",
   "execution_count": null,
   "id": "dc45c3c1-9982-4e85-ae3e-215d08db689a",
   "metadata": {},
   "outputs": [],
   "source": [
    "uk_accidents.groupby('Year')['Index'].size()"
   ]
  },
  {
   "cell_type": "markdown",
   "id": "1905adb1-3da8-463f-852e-2f73c8a7d31e",
   "metadata": {},
   "source": [
    "<h3>Insight: From 2019 to 2022, the number of cases went down every year. In 2019, there were 182,115 cases, and by 2022, it dropped to 144,419. This shows that things are getting better over time, and fewer cases are happening each year.</h3>"
   ]
  },
  {
   "cell_type": "markdown",
   "id": "d0365ada-eef8-450a-b17a-47b257d9b6e8",
   "metadata": {},
   "source": [
    "<hr>\n",
    "<h2>16. How many casualties are recorded in the dataset and which of them had the highest numbers that have listed?</h2>"
   ]
  },
  {
   "cell_type": "code",
   "execution_count": 54,
   "id": "c91f9ac7-3845-4b92-a09a-e2bf6363affd",
   "metadata": {},
   "outputs": [
    {
     "data": {
      "text/plain": [
       "array([ 1,  2,  3,  5,  9,  4,  7,  6,  8, 16, 40, 11, 22, 13, 25, 10, 28,\n",
       "       19, 18, 15, 29, 14, 42, 68, 12, 17, 27, 32, 21, 62, 45, 47, 48, 24,\n",
       "       26, 43])"
      ]
     },
     "execution_count": 54,
     "metadata": {},
     "output_type": "execute_result"
    }
   ],
   "source": [
    "uk_accidents['Number_of_Casualties'].unique()"
   ]
  },
  {
   "cell_type": "code",
   "execution_count": 55,
   "id": "60d1c394-fc3f-451c-8bcb-52d7e88015d5",
   "metadata": {},
   "outputs": [
    {
     "data": {
      "text/plain": [
       "Number_of_Casualties\n",
       "1     504041\n",
       "2     107971\n",
       "3      30776\n",
       "4      11156\n",
       "5       4123\n",
       "6       1525\n",
       "7        539\n",
       "8        214\n",
       "9        112\n",
       "10        58\n",
       "11        36\n",
       "13        24\n",
       "12        21\n",
       "14        13\n",
       "15        11\n",
       "17         8\n",
       "19         7\n",
       "16         7\n",
       "18         6\n",
       "22         5\n",
       "21         4\n",
       "29         3\n",
       "40         2\n",
       "28         2\n",
       "24         2\n",
       "27         2\n",
       "42         2\n",
       "25         1\n",
       "32         1\n",
       "68         1\n",
       "45         1\n",
       "62         1\n",
       "47         1\n",
       "48         1\n",
       "26         1\n",
       "43         1\n",
       "Name: count, dtype: int64"
      ]
     },
     "execution_count": 55,
     "metadata": {},
     "output_type": "execute_result"
    }
   ],
   "source": [
    "uk_accidents['Number_of_Casualties'].value_counts()"
   ]
  },
  {
   "cell_type": "markdown",
   "id": "1e00bc31-b0ee-48f6-9c94-db4f35d69102",
   "metadata": {},
   "source": [
    "<h3>Insight 01: Most accidents involve only a few people. Looking at the data, the majority of accidents result in just 1 or 2 people being hurt. For example, accidents with 1 casualty happen more than 500,000 times. This means that small accidents are very common, while accidents hurting many people are rare.</h3>"
   ]
  },
  {
   "cell_type": "markdown",
   "id": "b87d4349-4d90-4dc7-9454-20365ddd3d33",
   "metadata": {},
   "source": [
    "<h3>Insight 02: Accidents with many casualties are rare. As the number of people hurt increases, accidents become much less frequent. Very serious accidents with more than 10 casualties happen only a few times.</h3>"
   ]
  },
  {
   "cell_type": "code",
   "execution_count": null,
   "id": "149fafb0-0beb-4d9d-bbfe-af9ac3d29998",
   "metadata": {},
   "outputs": [],
   "source": []
  }
 ],
 "metadata": {
  "kernelspec": {
   "display_name": "Python 3 (ipykernel)",
   "language": "python",
   "name": "python3"
  },
  "language_info": {
   "codemirror_mode": {
    "name": "ipython",
    "version": 3
   },
   "file_extension": ".py",
   "mimetype": "text/x-python",
   "name": "python",
   "nbconvert_exporter": "python",
   "pygments_lexer": "ipython3",
   "version": "3.13.6"
  }
 },
 "nbformat": 4,
 "nbformat_minor": 5
}
